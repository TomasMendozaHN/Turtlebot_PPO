{
 "cells": [
  {
   "cell_type": "markdown",
   "id": "ad915a09-0ae7-4d23-b18b-c6f195f95d28",
   "metadata": {},
   "source": [
    "# Simple 30 seconds print"
   ]
  },
  {
   "cell_type": "code",
   "execution_count": null,
   "id": "a23ec96d-e2b3-4ff6-b3ce-0b0bb46de71e",
   "metadata": {},
   "outputs": [],
   "source": [
    "import PyLidar3\n",
    "import time # Time module\n",
    "#Serial port to which lidar connected, Get it from device manager windows\n",
    "#In linux type in terminal -- ls /dev/tty* \n",
    "#port = input(\"Enter port name which lidar is connected:\") #windows\n",
    "port = \"/dev/ttyUSB0\" #linux\n",
    "Obj = PyLidar3.YdLidarX4(port) #PyLidar3.your_version_of_lidar(port,chunk_size)\n",
    "if(Obj.Connect()):\n",
    "    print(Obj.GetDeviceInfo())\n",
    "    gen = Obj.StartScanning()\n",
    "    t = time.time() # start time \n",
    "    while (time.time() - t) < 30: #scan for 30 seconds\n",
    "        print(next(gen))\n",
    "        time.sleep(0.5)\n",
    "    Obj.StopScanning()\n",
    "    Obj.Disconnect()\n",
    "else:\n",
    "    print(\"Error connecting to device\")"
   ]
  },
  {
   "cell_type": "markdown",
   "id": "dab31d70-4123-45d1-816d-d601cf6a05cc",
   "metadata": {},
   "source": [
    "# Display as squared radar"
   ]
  },
  {
   "cell_type": "code",
   "execution_count": null,
   "id": "dedb62fb-46d5-4f98-b4ec-c49e924d09e8",
   "metadata": {},
   "outputs": [],
   "source": [
    "import threading\n",
    "import PyLidar3\n",
    "import matplotlib.pyplot as plt\n",
    "from IPython.display import clear_output\n",
    "import math    \n",
    "import time\n",
    "#plt.rcParams['figure.figsize']=(12,12)\n",
    "%matplotlib inline\n",
    "\n",
    "def draw():\n",
    "    global is_plot\n",
    "    while is_plot:\n",
    "        clear_output(wait=True)\n",
    "        plt.figure(1, figsize=(12,12))\n",
    "        plt.cla()\n",
    "        plt.ylim(-9000,9000)\n",
    "        plt.xlim(-9000,9000)\n",
    "        plt.scatter(x,y,c='r',s=8)\n",
    "        plt.pause(0.001)\n",
    "    plt.close(\"all\")\n",
    "    \n",
    "                \n",
    "is_plot = True\n",
    "x=[]\n",
    "y=[]\n",
    "for _ in range(360):\n",
    "    x.append(0)\n",
    "    y.append(0)\n",
    "\n",
    "port = \"/dev/ttyUSB0\" #linux\n",
    "Obj = PyLidar3.YdLidarX4(port)  #PyLidar3.your_version_of_lidar(port,chunk_size)\n",
    "threading.Thread(target=draw).start()\n",
    "if(Obj.Connect()):\n",
    "    print(Obj.GetDeviceInfo())\n",
    "    gen = Obj.StartScanning()\n",
    "    t = time.time() # start time \n",
    "    while (time.time() - t) < 180: #scan for 30 seconds\n",
    "        data = next(gen)\n",
    "        for angle in range(0,360):\n",
    "            if(data[angle]>1000):\n",
    "                x[angle] = data[angle] * math.cos(math.radians(angle))\n",
    "                y[angle] = data[angle] * math.sin(math.radians(angle))\n",
    "    is_plot = False\n",
    "    Obj.StopScanning()\n",
    "    Obj.Disconnect()\n",
    "else:\n",
    "    print(\"Error connecting to device\")"
   ]
  },
  {
   "cell_type": "code",
   "execution_count": null,
   "id": "53c09a9b-2d10-411c-b37c-cdce6d8f47fa",
   "metadata": {},
   "outputs": [],
   "source": []
  }
 ],
 "metadata": {
  "kernelspec": {
   "display_name": "Python 3",
   "language": "python",
   "name": "python3"
  },
  "language_info": {
   "codemirror_mode": {
    "name": "ipython",
    "version": 3
   },
   "file_extension": ".py",
   "mimetype": "text/x-python",
   "name": "python",
   "nbconvert_exporter": "python",
   "pygments_lexer": "ipython3",
   "version": "3.6.9"
  }
 },
 "nbformat": 4,
 "nbformat_minor": 5
}
