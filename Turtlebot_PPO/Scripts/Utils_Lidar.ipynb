{
 "cells": [
  {
   "cell_type": "code",
   "execution_count": null,
   "id": "d128f1fc-f6bf-45c1-9f95-ce846b76c98e",
   "metadata": {},
   "outputs": [],
   "source": [
    "import ipywidgets\n",
    "from IPython.display import display\n",
    "from threading import Thread\n",
    "import PyLidar3\n",
    "import getpass\n",
    "import time # Time module\n",
    "import os\n",
    "\n",
    "# Reset Lidar\n",
    "password = 'jetbot'\n",
    "command = \"sudo -S chmod 666 /dev/ttyUSB0\" #can be any command but don't forget -S as it enables input from stdin\n",
    "os.system('echo %s | %s' % (password, command))\n",
    "\n",
    "lidarReadings = {}"
   ]
  },
  {
   "cell_type": "code",
   "execution_count": null,
   "id": "72e52b98-4aa1-4378-8cc0-333a7b3654dc",
   "metadata": {},
   "outputs": [],
   "source": [
    "def continuousRead():\n",
    "    global lidarReadings\n",
    "    global widget\n",
    "    print(Obj.GetDeviceInfo())\n",
    "    gen = Obj.StartScanning()\n",
    "    t = time.time() # start time \n",
    "    while True: #scan for 30 seconds\n",
    "        lidarReadings = next(gen)\n",
    "        time.sleep(0.5)\n",
    "        \n",
    "        # Display to widget!!\n",
    "        try:\n",
    "            angle0 = lidarReadings[0][0]\n",
    "        except: \n",
    "            angle0 = lidarReadings[0]\n",
    "\n",
    "        try:\n",
    "            angle90 = lidarReadings[90][0]\n",
    "        except: \n",
    "            angle90 = lidarReadings[90]\n",
    "\n",
    "        try:\n",
    "            angle180 = lidarReadings[180][0]\n",
    "        except: \n",
    "            angle180 = lidarReadings[180]\n",
    "\n",
    "        #widget.value = f\"<pref><font color='black'><span style='background-color:#A9CDF8'>*    Lidar Readings    *</span><font color='blue'><br>Lidar 0°: {angle0}<br>Lidar 90°: {angle90}<br>Lidar 180°: {angle180}</pref>\\\"\\n\""
   ]
  },
  {
   "cell_type": "code",
   "execution_count": null,
   "id": "0edb23c5-853b-40a1-9d8a-f951c81c9c55",
   "metadata": {},
   "outputs": [],
   "source": []
  }
 ],
 "metadata": {
  "kernelspec": {
   "display_name": "Python 3",
   "language": "python",
   "name": "python3"
  },
  "language_info": {
   "codemirror_mode": {
    "name": "ipython",
    "version": 3
   },
   "file_extension": ".py",
   "mimetype": "text/x-python",
   "name": "python",
   "nbconvert_exporter": "python",
   "pygments_lexer": "ipython3",
   "version": "3.6.9"
  }
 },
 "nbformat": 4,
 "nbformat_minor": 5
}
