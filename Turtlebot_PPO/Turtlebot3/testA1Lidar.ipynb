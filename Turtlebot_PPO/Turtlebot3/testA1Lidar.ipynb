{
 "cells": [
  {
   "cell_type": "code",
   "execution_count": null,
   "id": "9e0efe9c",
   "metadata": {},
   "outputs": [],
   "source": [
    "import ipywidgets as widgets\n",
    "from IPython.display import display\n",
    "from threading import Thread\n",
    "import matplotlib.pyplot as plt\n",
    "from mplsoccer import Radar\n",
    "from threading import Thread\n",
    "import time\n",
    "import getpass\n",
    "import os\n",
    "\n",
    "# Reset Lidar\n",
    "password = 'jetbot'\n",
    "command = \"sudo -S chmod 666 /dev/ttyUSB0\" #can be any command but don't forget -S as it enables input from stdin\n",
    "os.system('echo %s | %s' % (password, command))"
   ]
  },
  {
   "cell_type": "code",
   "execution_count": null,
   "id": "d6f3db48",
   "metadata": {},
   "outputs": [],
   "source": [
    "from rplidar import RPLidar\n",
    "import rplidar\n",
    "\n",
    "lidar = RPLidar('/dev/ttyUSB0')\n",
    "lidar.motor_speed = rplidar.MAX_MOTOR_PWM\n",
    "\n",
    "# Define what angles you want to measure\n",
    "angles = [x for x in range(360)]\n",
    "realAngles = [x*10 for x in range(36)]\n",
    "\n",
    "# Initialize all sensor readings to 0\n",
    "readings = {x:1 for x in angles} "
   ]
  },
  {
   "cell_type": "code",
   "execution_count": null,
   "id": "ba059e94",
   "metadata": {},
   "outputs": [],
   "source": [
    "def readLidarThread():\n",
    "    \n",
    "    global lidar, readings\n",
    "    \n",
    "    while True:\n",
    "        \n",
    "        for scan in lidar.iter_scans(scan_type='express', min_len = 100, max_buf_meas=False):\n",
    "            readings_ = {int(x[1]): int(x[2]) for x in list(scan)}\n",
    "            for key,value in readings_.items():\n",
    "                readings[key]=value"
   ]
  },
  {
   "cell_type": "code",
   "execution_count": null,
   "id": "54502581",
   "metadata": {},
   "outputs": [],
   "source": [
    "myThread = Thread(target = readLidarThread)\n",
    "myThread.start()"
   ]
  },
  {
   "cell_type": "code",
   "execution_count": null,
   "id": "d65e1767",
   "metadata": {
    "scrolled": false
   },
   "outputs": [],
   "source": [
    "output = widgets.HTML()\n",
    "display(output)"
   ]
  },
  {
   "cell_type": "code",
   "execution_count": null,
   "id": "adc63386",
   "metadata": {},
   "outputs": [],
   "source": [
    "from IPython.display import clear_output as cls\n",
    "while True:\n",
    "    \n",
    "    global readings\n",
    "    \n",
    "    previous_readings = {k:readings[k]/1000 for k in realAngles}\n",
    "    \n",
    "    output.value = f\"\"\"<pref><font color='green'><font size=6> 0 deg: {previous_readings[0]} \\\n",
    "                                <br>10 deg: {previous_readings[10]} \\\n",
    "                                <br>20 deg: {previous_readings[20]} \\\n",
    "                                <br>30 deg: {previous_readings[30]} \\\n",
    "                                <br>40 deg: {previous_readings[40]} \\\n",
    "                                <br>50 deg: {previous_readings[50]} \\\n",
    "                                <br>60 deg: {previous_readings[60]} \\\n",
    "                                <br>70 deg: {previous_readings[70]} \\\n",
    "                                <br>80 deg: {previous_readings[80]} \\\n",
    "                                <br>90 deg: {previous_readings[90]} \\\n",
    "                                <br>100 deg: {previous_readings[100]} \\\n",
    "                                <br>110 deg: {previous_readings[110]} \\\n",
    "                                <br>120 deg: {previous_readings[120]} \\\n",
    "                                <br>130 deg: {previous_readings[130]} \\\n",
    "                                <br>140 deg: {previous_readings[140]} \\\n",
    "                                <br>150 deg: {previous_readings[150]} \\\n",
    "                                <br>160 deg: {previous_readings[160]} \\\n",
    "                                <br>170 deg: {previous_readings[170]} \\\n",
    "                                <br>180 deg: {previous_readings[180]} \\\n",
    "                                <br>190 deg: {previous_readings[190]} \\\n",
    "                                <br>200 deg: {previous_readings[200]} \\\n",
    "                                <br>210 deg: {previous_readings[210]} \\\n",
    "                                <br>220 deg: {previous_readings[220]} \\\n",
    "                                <br>230 deg: {previous_readings[230]} \\\n",
    "                                <br>240 deg: {previous_readings[240]} \\\n",
    "                                <br>250 deg: {previous_readings[250]} \\\n",
    "                                <br>260 deg: {previous_readings[260]} \\\n",
    "                                <br>270 deg: {previous_readings[270]} \\\n",
    "                                <br>280 deg: {previous_readings[280]} \\\n",
    "                                <br>290 deg: {previous_readings[290]} \\\n",
    "                                <br>300 deg: {previous_readings[300]} \\\n",
    "                                <br>310 deg: {previous_readings[310]} \\\n",
    "                                <br>320 deg: {previous_readings[320]} \\\n",
    "                                <br>330 deg: {previous_readings[330]} \\\n",
    "                                <br>340 deg: {previous_readings[340]} \\\n",
    "                                <br>350 deg: {previous_readings[350]} \"\"\"\n"
   ]
  },
  {
   "cell_type": "code",
   "execution_count": null,
   "id": "c061cc44",
   "metadata": {},
   "outputs": [],
   "source": []
  }
 ],
 "metadata": {
  "kernelspec": {
   "display_name": "Python 3",
   "language": "python",
   "name": "python3"
  },
  "language_info": {
   "codemirror_mode": {
    "name": "ipython",
    "version": 3
   },
   "file_extension": ".py",
   "mimetype": "text/x-python",
   "name": "python",
   "nbconvert_exporter": "python",
   "pygments_lexer": "ipython3",
   "version": "3.6.9"
  }
 },
 "nbformat": 4,
 "nbformat_minor": 5
}
