{
 "cells": [
  {
   "cell_type": "code",
   "execution_count": 4,
   "id": "869eff18",
   "metadata": {},
   "outputs": [
    {
     "name": "stdout",
     "output_type": "stream",
     "text": [
      "Servo Motors Ready!\n",
      "Lidar has started streaming data!\n",
      "Object recognition model Ready!\n"
     ]
    }
   ],
   "source": [
    "%run Utils/Utils.ipynb\n",
    "%run Utils/Utils_Widgets.ipynb"
   ]
  },
  {
   "cell_type": "code",
   "execution_count": 5,
   "id": "a1d43c70",
   "metadata": {},
   "outputs": [
    {
     "name": "stdout",
     "output_type": "stream",
     "text": [
      "jetcam library imported\n",
      "jetcam ready!\n",
      "torchvision imported\n",
      "Loading model...\n",
      "FRCNN model ready!\n"
     ]
    }
   ],
   "source": [
    "# %run Utils/Utils_DepthCam.ipynb\n",
    "%run Utils/Utils_Camera.ipynb"
   ]
  },
  {
   "cell_type": "code",
   "execution_count": 6,
   "id": "8b65c9ea",
   "metadata": {},
   "outputs": [
    {
     "name": "stdout",
     "output_type": "stream",
     "text": [
      "Connected with result #code 0\n"
     ]
    }
   ],
   "source": [
    "#!pip install paho.mqtt\n",
    "%run Utils/Utils_MQTT.ipynb\n",
    "stepCount = 1"
   ]
  },
  {
   "cell_type": "markdown",
   "id": "f5dc2cfe",
   "metadata": {},
   "source": [
    "# Parameters"
   ]
  },
  {
   "cell_type": "code",
   "execution_count": 7,
   "id": "b57354fd",
   "metadata": {},
   "outputs": [
    {
     "name": "stdout",
     "output_type": "stream",
     "text": [
      "[5.441, 1.6, 5.2, 17.103, 0, 0.001, 1.838, 1.835, 1.883, 2.018, 0.001, 2.704, 0.001, 1.076, 0.902, 1.148, 1.18, 1.238, 1.356, 1.561, 1.857, 2.349, 3.493, 7.892, 0.001, 3.35, 3.487, 0.001, 2.064, 1.753, 1.561, 1.373, 4.134, 4.04, 6.601, 5.862, 0.001, 0.001, 0.001, 0.001, 1.114]\n"
     ]
    }
   ],
   "source": [
    "goal_x_coor = 1.6 #-1.95 #1.6  # in m, measured relative to the initial robot coordinates\n",
    "goal_y_coor = 5.20 #5.5 #5.20  # in m, measured relative to the initial robot coordinates\n",
    "\n",
    "running_control_thread = False\n",
    "\n",
    "getObservation()\n",
    "print(observation)"
   ]
  },
  {
   "cell_type": "code",
   "execution_count": 8,
   "id": "bcc98fee",
   "metadata": {},
   "outputs": [
    {
     "name": "stdout",
     "output_type": "stream",
     "text": [
      "Model Loaded!\n"
     ]
    }
   ],
   "source": [
    "# model_path = \"Turtlebot3_0331.pth\"\n",
    "model_path = \"Turtlebot3_LSTM.pth\"\n",
    "agent = torch.load(model_path)\n",
    "agent.eval()\n",
    "print('Model Loaded!')"
   ]
  },
  {
   "cell_type": "code",
   "execution_count": 9,
   "id": "985af804",
   "metadata": {},
   "outputs": [],
   "source": [
    "#getObservation()\n",
    "memories = torch.ones((1,1,256))\n",
    "masks = torch.ones((1,6))"
   ]
  },
  {
   "cell_type": "markdown",
   "id": "e02d26ca",
   "metadata": {},
   "source": [
    "# Initialize Logging"
   ]
  },
  {
   "cell_type": "code",
   "execution_count": 10,
   "id": "c107651c",
   "metadata": {},
   "outputs": [],
   "source": [
    "import logging\n",
    "import datetime\n",
    "\n",
    "now = datetime.datetime.now()\n",
    "dt_string = now.strftime(\"%Y%m%d__%H_%M_%S\")"
   ]
  },
  {
   "cell_type": "code",
   "execution_count": 11,
   "id": "23f2ba0c",
   "metadata": {},
   "outputs": [],
   "source": [
    "for handler in logging.root.handlers[:]:\n",
    "    logging.root.removeHandler(handler)\n",
    "\n",
    "logging.basicConfig(filename=\"log_{}.txt\".format(dt_string), level=logging.ERROR, format=\"%(asctime)s %(message)s\")\n",
    "logging.error(\"{},{},{}\".format(real_x, real_y, real_angle))"
   ]
  },
  {
   "cell_type": "code",
   "execution_count": 12,
   "id": "8e2c35f0",
   "metadata": {},
   "outputs": [],
   "source": [
    "# Test\n",
    "\n",
    "# observation = [1]*41\n",
    "\n",
    "# dists, value_out, memories = agent.get_dist_and_value(vec_inputs=[torch.Tensor(observation).cuda()], vis_inputs=[], masks=masks, memories=memories)\n",
    "# actions = GetActionDiscrete(agent)  # LSTM\n",
    "# # actions = GetAction(agent)          # MLP\n",
    "# actions\n",
    "\n",
    "# for dist in dists:\n",
    "#     print(dist.entropy())\n",
    "    \n",
    "# for dist in dists:\n",
    "#     print(dist.probs)\n",
    "#     dist.probs=dist.probs*5\n",
    "    \n",
    "#     print(dist.probs)\n",
    "    \n",
    "# for dist in dists:\n",
    "#     print(dist.probs)\n",
    "    \n",
    "# for dist in dists:\n",
    "#     print(dist.entropy())\n",
    "    \n",
    "# actions = []\n",
    "# for dist in dists:\n",
    "#     actions.append(dist.sample().cpu().numpy()[0][0])\n",
    "# print(actions)"
   ]
  },
  {
   "cell_type": "markdown",
   "id": "f7d33c82",
   "metadata": {},
   "source": [
    "# Control"
   ]
  },
  {
   "cell_type": "code",
   "execution_count": 13,
   "id": "d2f392f7",
   "metadata": {},
   "outputs": [],
   "source": [
    "def ControlRobot(debug=False):\n",
    "    \n",
    "    global stepCount\n",
    "\n",
    "    delay_counter = 0\n",
    "    while True:\n",
    "\n",
    "        # Get an Observation\n",
    "        try:\n",
    "            getObservation()\n",
    "        except:\n",
    "            continue\n",
    "\n",
    "        updateStateWidgets()\n",
    "        \n",
    "        # Get Action\n",
    "        #actions = GetAction(agent)         # Get act ion from MLP\n",
    "        #actions = GetActionDiscrete(agent)  # Get action from LSTM\n",
    "        \n",
    "        actions = GetActionMod(agent)      # Get action from LSTM\n",
    "\n",
    "        if delay_counter>10:\n",
    "        \n",
    "            # If still far away\n",
    "            if observation[0] > 0.80:\n",
    "                print(f'Performing action = {actions}')\n",
    "                act(actions)\n",
    "\n",
    "            else:\n",
    "                print(\"reached goal\")\n",
    "                continue\n",
    "                \n",
    "        delay_counter+=1\n",
    "\n",
    "            "
   ]
  },
  {
   "cell_type": "code",
   "execution_count": 14,
   "id": "f8fb15f0",
   "metadata": {},
   "outputs": [],
   "source": [
    "def showDepthcamFeed_TRT_CSI():\n",
    "    global clockIsVisible, image\n",
    "    global running_control_thread\n",
    "    \n",
    "    while True:\n",
    "\n",
    "        # Obtain BBoxes + Labels from model\n",
    "        detections = getDetections(image)\n",
    "        \n",
    "        if 33 in detections or 31 in detections or 25 in detections or 85 in detections:\n",
    "            clockIsVisible =1 \n",
    "        else:\n",
    "            clockIsVisible = 0\n",
    "        \n",
    "            \n",
    "        # Run Control Thread\n",
    "        if running_control_thread == False:\n",
    "            \n",
    "            controlThread = Thread(target = ControlRobot)\n",
    "            controlThread.start()\n",
    "            running_control_thread = True"
   ]
  },
  {
   "cell_type": "code",
   "execution_count": 15,
   "id": "70fd54bf",
   "metadata": {
    "scrolled": false
   },
   "outputs": [
    {
     "data": {
      "application/vnd.jupyter.widget-view+json": {
       "model_id": "aac8059448154e0c8c8f3d32018499a9",
       "version_major": 2,
       "version_minor": 0
      },
      "text/plain": [
       "HBox(children=(VBox(children=(HTML(value=''), HTML(value=''), HTML(value=''), HTML(value=''), HTML(value=''), …"
      ]
     },
     "metadata": {},
     "output_type": "display_data"
    }
   ],
   "source": [
    "display(full_widget)"
   ]
  },
  {
   "cell_type": "code",
   "execution_count": 16,
   "id": "d732a400",
   "metadata": {},
   "outputs": [
    {
     "data": {
      "application/vnd.jupyter.widget-view+json": {
       "model_id": "7ed2e6bef95346b181927367d30d51b4",
       "version_major": 2,
       "version_minor": 0
      },
      "text/plain": [
       "HBox(children=(Image(value=b'', format='jpeg', height='480', width='640'),), layout=Layout(width='100%'))"
      ]
     },
     "metadata": {},
     "output_type": "display_data"
    }
   ],
   "source": [
    "# Delay Camera thread to make sure it works.\n",
    "display(image_widget)"
   ]
  },
  {
   "cell_type": "code",
   "execution_count": 17,
   "id": "1fc0e474",
   "metadata": {
    "scrolled": false
   },
   "outputs": [],
   "source": [
    "# Start camera\n",
    "execute({'new': camera.value})\n",
    "camera.observe(execute, names='value')"
   ]
  },
  {
   "cell_type": "code",
   "execution_count": null,
   "id": "68c32b41",
   "metadata": {},
   "outputs": [
    {
     "name": "stdout",
     "output_type": "stream",
     "text": [
      "Performing action = [1, 0]\n",
      "moved distance =  0.30148454124997176\n",
      "Performing action = [1, 1]\n",
      "moved distance =  0.2155441824632945\n",
      "rotated: -38.88924139064375. Real angle = 38.88924139064375\n",
      "Performing action = [1, 1]\n",
      "moved distance =  0.3097289338972241\n",
      "rotated: -37.06423721526227. Real angle = 75.95347860590601\n",
      "Performing action = [1, 2]\n",
      "moved distance =  0.27381425065945725\n",
      "rotated: 39.15263834599001. Real angle = 36.800840259916\n",
      "Performing action = [1, 2]\n",
      "moved distance =  0.2740639814088572\n",
      "rotated: 39.47887841386722. Real angle = 357.3219618460488\n",
      "Performing action = [1, 1]\n",
      "moved distance =  0.2669139010968792\n",
      "rotated: -39.28785406029425. Real angle = 36.609815906343044\n",
      "Performing action = [1, 1]\n",
      "moved distance =  0.2543707698447273\n",
      "rotated: -39.023194084408246. Real angle = 75.63300999075129\n",
      "Performing action = [1, 2]\n",
      "moved distance =  0.26087219669315903\n",
      "rotated: 39.13340931283065. Real angle = 36.49960067792064\n",
      "Performing action = [1, 2]\n",
      "moved distance =  0.2738887145603419\n",
      "rotated: 39.80052496822253. Real angle = 356.6990757096981\n",
      "Performing action = [1, 1]\n",
      "moved distance =  0.27490825190356516\n",
      "rotated: -37.5766580753907. Real angle = 34.27573378508879\n",
      "Performing action = [1, 2]\n",
      "moved distance =  0.27377477112354887\n",
      "rotated: 37.838173027294204. Real angle = 356.4375607577946\n",
      "Performing action = [1, 2]\n",
      "moved distance =  0.253088460279142\n",
      "rotated: 39.259246123291746. Real angle = 317.17831463450284\n",
      "Performing action = [1, 1]\n",
      "moved distance =  0.2713810391052834\n",
      "rotated: -39.001948818432425. Real angle = 356.18026345293526\n",
      "Performing action = [0, 2]\n",
      "rotated: 36.1840043044603. Real angle = 319.99625914847496\n",
      "Performing action = [0, 1]\n",
      "rotated: -42.11636791602086. Real angle = 2.1126270644958254\n",
      "Performing action = [1, 2]\n",
      "moved distance =  0.2947148250594882\n",
      "rotated: 41.15908954674484. Real angle = 320.953537517751\n",
      "Performing action = [0, 2]\n",
      "rotated: 38.51101391864984. Real angle = 282.44252359910115\n",
      "Performing action = [2, 1]\n",
      "moved distance =  -0.28065928819910435\n",
      "rotated: -37.27773554363995. Real angle = 319.7202591427411\n",
      "Performing action = [0, 1]\n",
      "rotated: -40.79643215394134. Real angle = 0.5166912966824384\n",
      "Performing action = [0, 0]\n",
      "Performing action = [2, 1]\n",
      "moved distance =  -0.302653432577997\n",
      "rotated: -38.54317146151203. Real angle = 39.05986275819447\n",
      "Performing action = [0, 0]\n",
      "Performing action = [0, 1]\n"
     ]
    }
   ],
   "source": [
    "# showCSIFeed()\n",
    "showDepthcamFeed_TRT_CSI()"
   ]
  },
  {
   "cell_type": "code",
   "execution_count": null,
   "id": "c63b4cc3",
   "metadata": {},
   "outputs": [],
   "source": []
  }
 ],
 "metadata": {
  "kernelspec": {
   "display_name": "Python 3",
   "language": "python",
   "name": "python3"
  },
  "language_info": {
   "codemirror_mode": {
    "name": "ipython",
    "version": 3
   },
   "file_extension": ".py",
   "mimetype": "text/x-python",
   "name": "python",
   "nbconvert_exporter": "python",
   "pygments_lexer": "ipython3",
   "version": "3.6.9"
  }
 },
 "nbformat": 4,
 "nbformat_minor": 5
}
