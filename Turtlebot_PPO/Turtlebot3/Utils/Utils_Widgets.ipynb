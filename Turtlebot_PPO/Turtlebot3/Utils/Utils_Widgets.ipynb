{
 "cells": [
  {
   "cell_type": "code",
   "execution_count": 1,
   "id": "caed1ad9",
   "metadata": {},
   "outputs": [
    {
     "name": "stderr",
     "output_type": "stream",
     "text": [
      "Matplotlib created a temporary config/cache directory at /tmp/matplotlib-_69pijw6 because the default path (/home/jetbot/.cache/matplotlib) is not a writable directory; it is highly recommended to set the MPLCONFIGDIR environment variable to a writable directory, in particular to speed up the import of Matplotlib and to better support multiprocessing.\n"
     ]
    }
   ],
   "source": [
    "import ipywidgets\n",
    "import time\n",
    "import matplotlib.pyplot as plt\n",
    "import random\n",
    "#from mplsoccer import Radar\n",
    "from IPython.display import clear_output as cls"
   ]
  },
  {
   "cell_type": "markdown",
   "id": "cc8efb9f",
   "metadata": {},
   "source": [
    "# Camera Feed Widget"
   ]
  },
  {
   "cell_type": "code",
   "execution_count": 2,
   "id": "e2611794",
   "metadata": {},
   "outputs": [],
   "source": [
    "image_w = ipywidgets.Image(format='jpeg', width=640, height=480)"
   ]
  },
  {
   "cell_type": "markdown",
   "id": "ee03dc5c",
   "metadata": {},
   "source": [
    "# HTML Widget"
   ]
  },
  {
   "cell_type": "code",
   "execution_count": 3,
   "id": "d445aa09",
   "metadata": {},
   "outputs": [],
   "source": [
    "#radar_widget = ipywidgets.Output()   # Uncomment this if you plan to visualize lidar data as a radar plot\n",
    "radar_widget = ipywidgets.HTML()\n",
    "distance_widget = ipywidgets.HTML()\n",
    "deltaX_widget = ipywidgets.HTML()\n",
    "deltaY_widget = ipywidgets.HTML()\n",
    "angle_widget = ipywidgets.HTML()\n",
    "stage_widget = ipywidgets.HTML()\n",
    "stepCount_widget = ipywidgets.HTML()"
   ]
  },
  {
   "cell_type": "code",
   "execution_count": 4,
   "id": "bbe8ce37",
   "metadata": {},
   "outputs": [],
   "source": [
    "# Visible widget (Text + Video Stream)\n",
    "text_widget = ipywidgets.VBox(\n",
    "    [distance_widget, deltaX_widget, deltaY_widget, angle_widget, stage_widget, stepCount_widget],\n",
    "    layout=ipywidgets.Layout(width='50%')\n",
    ")\n",
    "\n",
    "full_widget = ipywidgets.HBox(\n",
    "    [text_widget, radar_widget],\n",
    "    layout=ipywidgets.Layout(width='100%')\n",
    ")\n",
    "\n",
    "image_widget = ipywidgets.HBox(\n",
    "    [image_w],\n",
    "    layout=ipywidgets.Layout(width='100%')\n",
    ")"
   ]
  },
  {
   "cell_type": "markdown",
   "id": "e645dda5",
   "metadata": {},
   "source": [
    "# Update State widgets"
   ]
  },
  {
   "cell_type": "code",
   "execution_count": 5,
   "id": "bffcd5f5",
   "metadata": {},
   "outputs": [],
   "source": [
    "def updateStateWidgets():\n",
    "    global stepCount\n",
    "    global distance_widget, deltaX_widget, deltaY_widget, angle_widget, stage_widget, rays_widget, stepCount_widget\n",
    "    global observation, image_w, image\n",
    "    \n",
    "    angles = [x*10 for x in range(36)]                        \n",
    "                  \n",
    "    stepCount_widget.value = f\"<pref><font color='blue'><font size=6> Steps: {stepCount}\"\n",
    "    distance_widget.value = f\"<pref><font color='red'><font size=6> Distance to person: {round(observation[0],2)}m\"\n",
    "    deltaX_widget.value = f\"<pref><font color='black'><font size=6> Delta X: {round(observation[1],3)}m\"\n",
    "    deltaY_widget.value = f\"<pref><font color='black'><font size=6> Delta Y: {round(observation[2],3)}m\"\n",
    "    angle_widget.value = f\"<pref><font color='purple'><font size=6> Angle: {observation[3]}\"\n",
    "    stage_widget.value = f\"<pref><font color='green'><font size=6> Stage: {observation[4]}\"\n",
    "    \n",
    "    \n",
    "    colors = ['black' if x/8 > 0.075 else 'red' for x in observation[5:]]\n",
    "    \n",
    "    radar_widget.value = f\"\"\"<pref><font color={colors[27]}><font size=6> 0 deg: {observation[32]} \\\n",
    "                                <br><font color={colors[28]}> 10 deg: {observation[33]} \\\n",
    "                                <br><font color={colors[29]}> 20 deg: {observation[34]} \\\n",
    "                                <br><font color={colors[30]}> 30 deg: {observation[35]} \\\n",
    "                                <br><font color={colors[31]}> 40 deg: {observation[36]} \\\n",
    "                                <br><font color={colors[32]}> 50 deg: {observation[37]} \\\n",
    "                                <br><font color={colors[33]}> 60 deg: {observation[38]} \\\n",
    "                                <br><font color={colors[34]}> 70 deg: {observation[39]} \\\n",
    "                                <br><font color={colors[35]}> 80 deg: {observation[40]} \\\n",
    "                                <br><font color={colors[0]}> 90 deg: {observation[5]} \\\n",
    "                                <br><font color={colors[1]}> 100 deg: {observation[6]} \\\n",
    "                                <br><font color={colors[2]}> 110 deg: {observation[7]} \\\n",
    "                                <br><font color={colors[3]}> 120 deg: {observation[8]} \\\n",
    "                                <br><font color={colors[4]}> 130 deg: {observation[9]} \\\n",
    "                                <br><font color={colors[5]}> 140 deg: {observation[10]} \\\n",
    "                                <br><font color={colors[6]}> 150 deg: {observation[11]} \\\n",
    "                                <br><font color={colors[7]}> 160 deg: {observation[12]} \\\n",
    "                                <br><font color={colors[8]}> 170 deg: {observation[13]} \\\n",
    "                                <br><font color={colors[9]}> 180 deg: {observation[14]} \\\n",
    "                                <br><font color={colors[10]}> 190 deg: {observation[15]} \\\n",
    "                                <br><font color={colors[11]}> 200 deg: {observation[16]} \\\n",
    "                                <br><font color={colors[12]}> 210 deg: {observation[17]} \\\n",
    "                                <br><font color={colors[13]}> 220 deg: {observation[18]} \\\n",
    "                                <br><font color={colors[14]}> 230 deg: {observation[19]} \\\n",
    "                                <br><font color={colors[15]}> 240 deg: {observation[20]} \\\n",
    "                                <br><font color={colors[16]}> 250 deg: {observation[21]} \\\n",
    "                                <br><font color={colors[17]}> 260 deg: {observation[22]} \\\n",
    "                                <br><font color={colors[18]}> 270 deg: {observation[23]} \\\n",
    "                                <br><font color={colors[19]}> 280 deg: {observation[24]} \\\n",
    "                                <br><font color={colors[20]}> 290 deg: {observation[25]} \\\n",
    "                                <br><font color={colors[21]}> 300 deg: {observation[26]} \\\n",
    "                                <br><font color={colors[22]}> 310 deg: {observation[27]} \\\n",
    "                                <br><font color={colors[23]}> 320 deg: {observation[28]} \\\n",
    "                                <br><font color={colors[24]}> 330 deg: {observation[29]} \\\n",
    "                                <br><font color={colors[25]}> 340 deg: {observation[30]} \\\n",
    "                                <br><font color={colors[26]}> 350 deg: {observation[31]} \"\"\"\n",
    "\n",
    "    # Below is only used in case you want to visualize a lot of lidar readings. \n",
    "#     radar_widget.value = f\"\"\"<pref><font color='green'><font size=6> 0 deg: {previous_readings[0]} \\\n",
    "#                                 <br>10 deg: {previous_readings[10]} \\\n",
    "#                                 <br>20 deg: {previous_readings[20]} \\\n",
    "#                                 <br>30 deg: {previous_readings[30]} \\\n",
    "#                                 <br>40 deg: {previous_readings[40]} \\\n",
    "#                                 <br>50 deg: {previous_readings[50]} \\\n",
    "#                                 <br>60 deg: {previous_readings[60]} \\\n",
    "#                                 <br>70 deg: {previous_readings[70]} \\\n",
    "#                                 <br>80 deg: {previous_readings[80]} \\\n",
    "#                                 <br>90 deg: {previous_readings[90]} \\\n",
    "#                                 <br>100 deg: {previous_readings[100]} \\\n",
    "#                                 <br>110 deg: {previous_readings[110]} \\\n",
    "#                                 <br>120 deg: {previous_readings[120]} \\\n",
    "#                                 <br>130 deg: {previous_readings[130]} \\\n",
    "#                                 <br>140 deg: {previous_readings[140]} \\\n",
    "#                                 <br>150 deg: {previous_readings[150]} \\\n",
    "#                                 <br>160 deg: {previous_readings[160]} \\\n",
    "#                                 <br>170 deg: {previous_readings[170]} \\\n",
    "#                                 <br>180 deg: {previous_readings[180]} \\\n",
    "#                                 <br>190 deg: {previous_readings[190]} \\\n",
    "#                                 <br>200 deg: {previous_readings[200]} \\\n",
    "#                                 <br>210 deg: {previous_readings[210]} \\\n",
    "#                                 <br>220 deg: {previous_readings[220]} \\\n",
    "#                                 <br>230 deg: {previous_readings[230]} \\\n",
    "#                                 <br>240 deg: {previous_readings[240]} \\\n",
    "#                                 <br>250 deg: {previous_readings[250]} \\\n",
    "#                                 <br>260 deg: {previous_readings[260]} \\\n",
    "#                                 <br>270 deg: {previous_readings[270]} \\\n",
    "#                                 <br>280 deg: {previous_readings[280]} \\\n",
    "#                                 <br>290 deg: {previous_readings[290]} \\\n",
    "#                                 <br>300 deg: {previous_readings[300]} \\\n",
    "#                                 <br>310 deg: {previous_readings[310]} \\\n",
    "#                                 <br>320 deg: {previous_readings[320]} \\\n",
    "#                                 <br>330 deg: {previous_readings[330]} \\\n",
    "#                                 <br>340 deg: {previous_readings[340]} \\\n",
    "#                                 <br>350 deg: {previous_readings[350]} \"\"\"\n",
    "    \n",
    "    # Uncomment if you want to visualize the lidar data as a radar\n",
    "    #update_radar()\n",
    "    \n",
    "    # Send frame to video widget (only if you need to visualize what your camera is looking at.)\n",
    "    image_w.value = bgr8_to_jpeg(image[::-1, ::-1, :])\n",
    "    \n",
    "    "
   ]
  },
  {
   "cell_type": "markdown",
   "id": "8d75f284",
   "metadata": {},
   "source": [
    "Below code is not used anymore. Before, I it used to display lidar readings as a radar. \n",
    "Sadly, the performance of the jetson xavier dropped considerably when using it.\n",
    "So, I left it just for documentation purposes. "
   ]
  },
  {
   "cell_type": "code",
   "execution_count": 6,
   "id": "5a9b50f2",
   "metadata": {},
   "outputs": [],
   "source": [
    "# def update_radar():\n",
    "#     global radar_widget, observation\n",
    "       \n",
    "#     with radar_widget:\n",
    "        \n",
    "#         fig, ax = radar.setup_axis()\n",
    "#         rings_inner = radar.draw_circles(ax=ax, facecolor='#ffffff', edgecolor='#000000')\n",
    "#         values = observation[5:]\n",
    "#         radar_poly, rings, vertices = radar.draw_radar(values, ax=ax,\n",
    "#                                                         kwargs_radar={'facecolor': '#00f2c1', 'alpha': 0.6}, \n",
    "#                                                         kwargs_rings={'facecolor': '#00f2c1', 'alpha': 0.6})\n",
    "#         #range_labels = radar.draw_range_labels(ax=ax)\n",
    "#         param_labels = radar.draw_param_labels(ax=ax)\n",
    "\n",
    "#         radar_widget.clear_output(wait=True)\n",
    "#         plt.show()"
   ]
  }
 ],
 "metadata": {
  "kernelspec": {
   "display_name": "Python 3",
   "language": "python",
   "name": "python3"
  },
  "language_info": {
   "codemirror_mode": {
    "name": "ipython",
    "version": 3
   },
   "file_extension": ".py",
   "mimetype": "text/x-python",
   "name": "python",
   "nbconvert_exporter": "python",
   "pygments_lexer": "ipython3",
   "version": "3.6.9"
  }
 },
 "nbformat": 4,
 "nbformat_minor": 5
}
