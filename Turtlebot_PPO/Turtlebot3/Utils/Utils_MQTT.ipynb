{
 "cells": [
  {
   "cell_type": "code",
   "execution_count": null,
   "id": "c7b9d7bc",
   "metadata": {},
   "outputs": [],
   "source": [
    "import paho.mqtt.client as mqtt\n",
    "\n",
    "stepCount = 0\n",
    "\n",
    "def on_connect(client, userdata, flags, rc):  # The callback for when the client connects to the broker \n",
    "    print(\"Connected with result #code {0}\".format(str(rc)))  # Print result of connection attempt \n",
    "    client.subscribe(\"Sensor/Walkspeed\")  # Subscribe to the topic “digitest/test1”, receive any messages  published on it\n",
    "\n",
    "def on_message(client, userdata, msg):  # The callback for when a PUBLISH message is received from the server. \n",
    "    global stepCount\n",
    "    try:\n",
    "        stepCount = float(str(msg.payload)[2:-1])\n",
    "    except:\n",
    "        pass\n",
    "    \n",
    "\n",
    "def thread():\n",
    "    client = mqtt.Client(\"digi_mqtt_test\")  # Create instance of client with client ID “digi_mqtt_test”\n",
    "    client.on_connect = on_connect  # Define callback function for successful connection\n",
    "    client.on_message = on_message  # Define callback function for receipt of a message\n",
    "    client.connect('192.168.0.231', 1883)\n",
    "    client.loop_forever()  # Start networking daemon\n",
    "    \n",
    "mqtt_Thread = Thread(target = thread)\n",
    "mqtt_Thread.start()"
   ]
  }
 ],
 "metadata": {
  "kernelspec": {
   "display_name": "Python 3",
   "language": "python",
   "name": "python3"
  },
  "language_info": {
   "codemirror_mode": {
    "name": "ipython",
    "version": 3
   },
   "file_extension": ".py",
   "mimetype": "text/x-python",
   "name": "python",
   "nbconvert_exporter": "python",
   "pygments_lexer": "ipython3",
   "version": "3.6.9"
  }
 },
 "nbformat": 4,
 "nbformat_minor": 5
}
