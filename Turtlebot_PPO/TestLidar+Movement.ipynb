{
 "cells": [
  {
   "cell_type": "code",
   "execution_count": 1,
   "id": "b9408e39-6ab5-446c-88b6-a1080a5ec41d",
   "metadata": {},
   "outputs": [],
   "source": [
    "%run Scripts/Utils_ContinuousMovement.ipynb  # Servo Control\n",
    "%run Scripts/Utils_Lidar.ipynb  # Lidar Control"
   ]
  },
  {
   "cell_type": "markdown",
   "id": "00b30969-b2fc-4cc4-ac23-1227e1a2c6f4",
   "metadata": {},
   "source": [
    "## Movement Variables & ROS Communication"
   ]
  },
  {
   "cell_type": "code",
   "execution_count": 2,
   "id": "32478f5c-74f8-4796-a4cd-8255e6df2930",
   "metadata": {},
   "outputs": [],
   "source": [
    "# Create Node to communicate with ROS\n",
    "rospy.init_node('sub_odom')\n",
    "dx,dy,angle = 0,0,0\n",
    "real_angle, real_x, real_y = 0,0,0\n",
    "moved_distance = 0\n",
    "rotations,movements = [],[]"
   ]
  },
  {
   "cell_type": "markdown",
   "id": "39371f5c-0915-4591-a1dd-f31051e77467",
   "metadata": {},
   "source": [
    "## Establish communication with Servo-Motors"
   ]
  },
  {
   "cell_type": "code",
   "execution_count": 3,
   "id": "4a4b390b-57ef-4745-a140-23e51dd98f45",
   "metadata": {},
   "outputs": [],
   "source": [
    "# Create a publisher to control movement\n",
    "pub = rospy.Publisher('cmd_vel', Twist, queue_size=1)\n",
    "\n",
    "# Run Thread\n",
    "running_thread = False\n",
    "if not running_thread:\n",
    "    thread = Thread(target = measurementThread)\n",
    "    thread.start()"
   ]
  },
  {
   "cell_type": "markdown",
   "id": "f71df5b4-fb89-4377-a9b9-89e8d7f0650c",
   "metadata": {},
   "source": [
    "## Start Printing Lidar Readings"
   ]
  },
  {
   "cell_type": "code",
   "execution_count": null,
   "id": "3d19c2ab-b65b-4073-9a07-7d74ab3842d5",
   "metadata": {},
   "outputs": [],
   "source": [
    "try:\n",
    "    Obj.StopScanning()\n",
    "    Obj.disconnect()\n",
    "except:\n",
    "    print('running for first time. sweet!...')\n",
    "\n",
    "widget = widget = ipywidgets.HTML()\n",
    "\n",
    "port = \"/dev/ttyUSB0\" #linux\n",
    "Obj = PyLidar3.YdLidarX4(port, chunk_size=20000) #PyLidar3.your_version_of_lidar(port,chunk_size)\n",
    "if(Obj.Connect()):\n",
    "    thread2 = Thread(target = continuousRead)\n",
    "    thread2.start()\n",
    "    \n",
    "display(widget)"
   ]
  },
  {
   "cell_type": "markdown",
   "id": "cb340621-a941-4489-85ce-08d132a6d58b",
   "metadata": {},
   "source": [
    "## Move or Rotate Robot"
   ]
  },
  {
   "cell_type": "code",
   "execution_count": 5,
   "id": "928df693-56a2-4075-ac43-189bde419718",
   "metadata": {},
   "outputs": [
    {
     "name": "stdout",
     "output_type": "stream",
     "text": [
      "/nmoved:  -0.30182864159381084\n",
      "new coordinates: angle=0, y=-3.133507840125116e-05, x=0\n",
      "shutdown request: [/sub_odom] Reason: new node registered with same name\n"
     ]
    }
   ],
   "source": [
    "Move(distance=0.30, speed=-0.15)  # meters, m/s\n",
    "update_coordinates()\n",
    "print(f'new coordinates: angle={real_angle}, y={real_y}, x={real_x}')"
   ]
  },
  {
   "cell_type": "code",
   "execution_count": 8,
   "id": "3088da48",
   "metadata": {},
   "outputs": [
    {
     "data": {
      "text/plain": [
       "0.30186728034982885"
      ]
     },
     "execution_count": 8,
     "metadata": {},
     "output_type": "execute_result"
    }
   ],
   "source": [
    "real_y"
   ]
  },
  {
   "cell_type": "code",
   "execution_count": 11,
   "id": "7880f429-514d-43de-b971-80ec099be58c",
   "metadata": {},
   "outputs": [
    {
     "name": "stdout",
     "output_type": "stream",
     "text": [
      "rotated:  30.90686623160377\n",
      "new coordinates: angle=267.42670418734843, y=0.30186728034982885, x=0\n"
     ]
    }
   ],
   "source": [
    "Rotate(degrees=29, direction='left')\n",
    "print(f'new coordinates: angle={real_angle}, y={real_y}, x={real_x}')"
   ]
  },
  {
   "cell_type": "code",
   "execution_count": null,
   "id": "d74ed8fc",
   "metadata": {},
   "outputs": [],
   "source": []
  }
 ],
 "metadata": {
  "kernelspec": {
   "display_name": "Python 3",
   "language": "python",
   "name": "python3"
  },
  "language_info": {
   "codemirror_mode": {
    "name": "ipython",
    "version": 3
   },
   "file_extension": ".py",
   "mimetype": "text/x-python",
   "name": "python",
   "nbconvert_exporter": "python",
   "pygments_lexer": "ipython3",
   "version": "3.6.9"
  }
 },
 "nbformat": 4,
 "nbformat_minor": 5
}
