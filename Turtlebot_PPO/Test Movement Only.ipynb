{
 "cells": [
  {
   "cell_type": "code",
   "execution_count": 1,
   "id": "27c99f84",
   "metadata": {},
   "outputs": [],
   "source": [
    "%run Scripts/TurtlebotMovement.ipynb"
   ]
  },
  {
   "cell_type": "code",
   "execution_count": 2,
   "id": "1216199a",
   "metadata": {},
   "outputs": [],
   "source": [
    "import time\n",
    "#TIME_MOVE = 0.5\n",
    "TIME_ROTATE = 1\n",
    "speed_turn = 0.5"
   ]
  },
  {
   "cell_type": "markdown",
   "id": "b7ccbba0",
   "metadata": {},
   "source": [
    "# Move"
   ]
  },
  {
   "cell_type": "code",
   "execution_count": 3,
   "id": "5371a0ae",
   "metadata": {},
   "outputs": [
    {
     "name": "stdout",
     "output_type": "stream",
     "text": [
      "linear velocity:  -0.2\n",
      "linear velocity:  -0.2\n"
     ]
    }
   ],
   "source": [
    "for _ in range (2):\n",
    "    turtlebotMove(-0.2, time_move=0.5)\n",
    "    time.sleep(1)"
   ]
  },
  {
   "cell_type": "markdown",
   "id": "cc62c3f7",
   "metadata": {},
   "source": [
    "# Rotate"
   ]
  },
  {
   "cell_type": "code",
   "execution_count": null,
   "id": "7871e3a7",
   "metadata": {},
   "outputs": [],
   "source": [
    "turtlebotRotate(-0.175, time_rotate=1)"
   ]
  },
  {
   "cell_type": "code",
   "execution_count": 1,
   "id": "7f650f03",
   "metadata": {},
   "outputs": [],
   "source": [
    "import rospy\n",
    "from geometry_msgs.msg import Twist"
   ]
  },
  {
   "cell_type": "code",
   "execution_count": 6,
   "id": "2c398f64",
   "metadata": {},
   "outputs": [],
   "source": [
    "import time\n",
    "rospy.init_node('turtlebot3_teleop')\n",
    "pub = rospy.Publisher('cmd_vel', Twist, queue_size=1)\n",
    "rate = rospy.Rate(2)\n",
    "move = Twist()\n",
    "move.linear.x=-0.4\n",
    "\n",
    "for i in range (20):\n",
    "    pub.publish(move)\n",
    "    time.sleep(2.5)\n",
    "    "
   ]
  },
  {
   "cell_type": "code",
   "execution_count": null,
   "id": "5cda824a",
   "metadata": {},
   "outputs": [],
   "source": [
    "import rospy"
   ]
  }
 ],
 "metadata": {
  "kernelspec": {
   "display_name": "Python 3",
   "language": "python",
   "name": "python3"
  },
  "language_info": {
   "codemirror_mode": {
    "name": "ipython",
    "version": 3
   },
   "file_extension": ".py",
   "mimetype": "text/x-python",
   "name": "python",
   "nbconvert_exporter": "python",
   "pygments_lexer": "ipython3",
   "version": "3.6.9"
  }
 },
 "nbformat": 4,
 "nbformat_minor": 5
}
