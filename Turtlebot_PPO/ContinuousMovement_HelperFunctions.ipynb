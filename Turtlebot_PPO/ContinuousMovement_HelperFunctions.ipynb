{
 "cells": [
  {
   "cell_type": "code",
   "execution_count": null,
   "id": "1cf89957",
   "metadata": {},
   "outputs": [],
   "source": [
    "import numpy\n",
    "import math"
   ]
  },
  {
   "cell_type": "code",
   "execution_count": null,
   "id": "51872784",
   "metadata": {},
   "outputs": [],
   "source": [
    "_AXES2TUPLE = {\n",
    "    'sxyz': (0, 0, 0, 0), 'sxyx': (0, 0, 1, 0), 'sxzy': (0, 1, 0, 0),\n",
    "    'sxzx': (0, 1, 1, 0), 'syzx': (1, 0, 0, 0), 'syzy': (1, 0, 1, 0),\n",
    "    'syxz': (1, 1, 0, 0), 'syxy': (1, 1, 1, 0), 'szxy': (2, 0, 0, 0),\n",
    "    'szxz': (2, 0, 1, 0), 'szyx': (2, 1, 0, 0), 'szyz': (2, 1, 1, 0),\n",
    "    'rzyx': (0, 0, 0, 1), 'rxyx': (0, 0, 1, 1), 'ryzx': (0, 1, 0, 1),\n",
    "    'rxzx': (0, 1, 1, 1), 'rxzy': (1, 0, 0, 1), 'ryzy': (1, 0, 1, 1),\n",
    "    'rzxy': (1, 1, 0, 1), 'ryxy': (1, 1, 1, 1), 'ryxz': (2, 0, 0, 1),\n",
    "    'rzxz': (2, 0, 1, 1), 'rxyz': (2, 1, 0, 1), 'rzyz': (2, 1, 1, 1)}\n",
    "\n",
    "_TUPLE2AXES = dict((v, k) for k, v in _AXES2TUPLE.items())\n",
    "\n",
    "# epsilon for testing whether a number is close to zero\n",
    "_EPS = numpy.finfo(float).eps * 4.0\n",
    "\n",
    "# axis sequences for Euler angles\n",
    "_NEXT_AXIS = [1, 2, 0, 1]"
   ]
  },
  {
   "cell_type": "code",
   "execution_count": null,
   "id": "5e7c3a0a",
   "metadata": {},
   "outputs": [],
   "source": [
    "def euler_from_quaternion(quaternion, axes='sxyz'):\n",
    "    \"\"\"Return Euler angles from quaternion for specified axis sequence.\n",
    "    >>> angles = euler_from_quaternion([0.06146124, 0, 0, 0.99810947])\n",
    "    >>> numpy.allclose(angles, [0.123, 0, 0])\n",
    "    True\n",
    "    \"\"\"\n",
    "    return euler_from_matrix(quaternion_matrix(quaternion), axes)[2]"
   ]
  },
  {
   "cell_type": "code",
   "execution_count": 2,
   "id": "24e34ae5",
   "metadata": {},
   "outputs": [],
   "source": [
    "def euler_from_matrix(matrix, axes='sxyz'):\n",
    "    \"\"\"Return Euler angles from rotation matrix for specified axis sequence.\n",
    "    axes : One of 24 axis sequences as string or encoded tuple\n",
    "    Note that many Euler angle triplets can describe one matrix.\n",
    "    >>> R0 = euler_matrix(1, 2, 3, 'syxz')\n",
    "    >>> al, be, ga = euler_from_matrix(R0, 'syxz')\n",
    "    >>> R1 = euler_matrix(al, be, ga, 'syxz')\n",
    "    >>> numpy.allclose(R0, R1)\n",
    "    True\n",
    "    >>> angles = (4.0*math.pi) * (numpy.random.random(3) - 0.5)\n",
    "    >>> for axes in _AXES2TUPLE.keys():\n",
    "    ...    R0 = euler_matrix(axes=axes, *angles)\n",
    "    ...    R1 = euler_matrix(axes=axes, *euler_from_matrix(R0, axes))\n",
    "    ...    if not numpy.allclose(R0, R1): print axes, \"failed\"\n",
    "    \"\"\"\n",
    "    try:\n",
    "        firstaxis, parity, repetition, frame = _AXES2TUPLE[axes.lower()]\n",
    "    except (AttributeError, KeyError):\n",
    "        _ = _TUPLE2AXES[axes]\n",
    "        firstaxis, parity, repetition, frame = axes\n",
    "\n",
    "    i = firstaxis\n",
    "    j = _NEXT_AXIS[i+parity]\n",
    "    k = _NEXT_AXIS[i-parity+1]\n",
    "\n",
    "    M = numpy.array(matrix, dtype=numpy.float64, copy=False)[:3, :3]\n",
    "    if repetition:\n",
    "        sy = math.sqrt(M[i, j]*M[i, j] + M[i, k]*M[i, k])\n",
    "        if sy > _EPS:\n",
    "            ax = math.atan2( M[i, j],  M[i, k])\n",
    "            ay = math.atan2( sy,       M[i, i])\n",
    "            az = math.atan2( M[j, i], -M[k, i])\n",
    "        else:\n",
    "            ax = math.atan2(-M[j, k],  M[j, j])\n",
    "            ay = math.atan2( sy,       M[i, i])\n",
    "            az = 0.0\n",
    "    else:\n",
    "        cy = math.sqrt(M[i, i]*M[i, i] + M[j, i]*M[j, i])\n",
    "        if cy > _EPS:\n",
    "            ax = math.atan2( M[k, j],  M[k, k])\n",
    "            ay = math.atan2(-M[k, i],  cy)\n",
    "            az = math.atan2( M[j, i],  M[i, i])\n",
    "        else:\n",
    "            ax = math.atan2(-M[j, k],  M[j, j])\n",
    "            ay = math.atan2(-M[k, i],  cy)\n",
    "            az = 0.0\n",
    "\n",
    "    if parity:\n",
    "        ax, ay, az = -ax, -ay, -az\n",
    "    if frame:\n",
    "        ax, az = az, ax\n",
    "    return ax, ay, az"
   ]
  },
  {
   "cell_type": "code",
   "execution_count": null,
   "id": "2bbbe6e9",
   "metadata": {},
   "outputs": [],
   "source": [
    "def quaternion_matrix(quaternion):\n",
    "    \"\"\"Return homogeneous rotation matrix from quaternion.\n",
    "    >>> R = quaternion_matrix([0.06146124, 0, 0, 0.99810947])\n",
    "    >>> numpy.allclose(R, rotation_matrix(0.123, (1, 0, 0)))\n",
    "    True\n",
    "    \"\"\"\n",
    "    q = numpy.array(quaternion[:4], dtype=numpy.float64, copy=True)\n",
    "    nq = numpy.dot(q, q)\n",
    "    if nq < _EPS:\n",
    "        return numpy.identity(4)\n",
    "    q *= math.sqrt(2.0 / nq)\n",
    "    q = numpy.outer(q, q)\n",
    "    return numpy.array((\n",
    "        (1.0-q[1, 1]-q[2, 2],     q[0, 1]-q[2, 3],     q[0, 2]+q[1, 3], 0.0),\n",
    "        (    q[0, 1]+q[2, 3], 1.0-q[0, 0]-q[2, 2],     q[1, 2]-q[0, 3], 0.0),\n",
    "        (    q[0, 2]-q[1, 3],     q[1, 2]+q[0, 3], 1.0-q[0, 0]-q[1, 1], 0.0),\n",
    "        (                0.0,                 0.0,                 0.0, 1.0)\n",
    "        ), dtype=numpy.float64)\n"
   ]
  }
 ],
 "metadata": {
  "kernelspec": {
   "display_name": "Python 3",
   "language": "python",
   "name": "python3"
  },
  "language_info": {
   "codemirror_mode": {
    "name": "ipython",
    "version": 3
   },
   "file_extension": ".py",
   "mimetype": "text/x-python",
   "name": "python",
   "nbconvert_exporter": "python",
   "pygments_lexer": "ipython3",
   "version": "3.6.9"
  }
 },
 "nbformat": 4,
 "nbformat_minor": 5
}
