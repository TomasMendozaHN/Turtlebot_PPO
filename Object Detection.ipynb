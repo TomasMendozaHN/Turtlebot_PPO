{
 "cells": [
  {
   "cell_type": "code",
   "execution_count": null,
   "id": "cb5ca2ca",
   "metadata": {},
   "outputs": [],
   "source": [
    "import getpass\n",
    "import os\n",
    "\n",
    "# Reset Camera\n",
    "password = 'jetbot'\n",
    "command = \"sudo -S systemctl restart nvargus-daemon\" #can be any command but don't forget -S as it enables input from stdin\n",
    "os.system('echo %s | %s' % (password, command))"
   ]
  },
  {
   "cell_type": "code",
   "execution_count": null,
   "id": "e78faa65",
   "metadata": {},
   "outputs": [],
   "source": [
    "from jetcam.csi_camera import CSICamera\n",
    "\n",
    "camera = CSICamera(width=640, height=480, capture_fps=15)\n",
    "camera.running = True"
   ]
  },
  {
   "cell_type": "code",
   "execution_count": null,
   "id": "e114b796",
   "metadata": {},
   "outputs": [],
   "source": [
    "def execute(change):\n",
    "    global image\n",
    "    \n",
    "    image = change['new']\n",
    "    \n",
    "    print(\"type = \", type(image))\n",
    "    \n",
    "    image_w.value = bgr8_to_jpeg(image[:, ::-1, :])\n",
    "    "
   ]
  },
  {
   "cell_type": "code",
   "execution_count": null,
   "id": "4033930b",
   "metadata": {},
   "outputs": [],
   "source": [
    "import ipywidgets\n",
    "from IPython.display import display\n",
    "from jetcam.utils import bgr8_to_jpeg\n",
    "image_w = ipywidgets.Image(format='jpeg', width=640, height=480)\n",
    "display(image_w)"
   ]
  },
  {
   "cell_type": "code",
   "execution_count": null,
   "id": "b6166a71",
   "metadata": {},
   "outputs": [],
   "source": [
    "execute({'new': camera.value})\n",
    "camera.observe(execute, names='value')\n"
   ]
  },
  {
   "cell_type": "code",
   "execution_count": null,
   "id": "c40f126c",
   "metadata": {},
   "outputs": [],
   "source": []
  }
 ],
 "metadata": {
  "kernelspec": {
   "display_name": "Python 3",
   "language": "python",
   "name": "python3"
  },
  "language_info": {
   "codemirror_mode": {
    "name": "ipython",
    "version": 3
   },
   "file_extension": ".py",
   "mimetype": "text/x-python",
   "name": "python",
   "nbconvert_exporter": "python",
   "pygments_lexer": "ipython3",
   "version": "3.6.9"
  }
 },
 "nbformat": 4,
 "nbformat_minor": 5
}
