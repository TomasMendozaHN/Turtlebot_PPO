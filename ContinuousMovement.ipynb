{
 "cells": [
  {
   "cell_type": "code",
   "execution_count": 1,
   "id": "3080e23b",
   "metadata": {},
   "outputs": [],
   "source": [
    "import rospy\n",
    "from geometry_msgs.msg import Twist, Point, Quaternion\n",
    "from math import radians, copysign, sqrt, pow, pi, atan2\n",
    "import time\n",
    "from threading import Thread\n",
    "from nav_msgs.msg import Odometry"
   ]
  },
  {
   "cell_type": "code",
   "execution_count": 2,
   "id": "320a9f2f",
   "metadata": {},
   "outputs": [],
   "source": [
    "%run ContinuousMovement_HelperFunctions.ipynb"
   ]
  },
  {
   "cell_type": "code",
   "execution_count": 3,
   "id": "2615bc99",
   "metadata": {},
   "outputs": [],
   "source": [
    "# Create Node to communicate with ROS\n",
    "rospy.init_node('sub_odom')\n",
    "dx,dy,angle = 0,0,0\n",
    "real_angle, real_x, real_y = 0,0,0\n",
    "moved_distance = 0"
   ]
  },
  {
   "cell_type": "code",
   "execution_count": 4,
   "id": "8787af30",
   "metadata": {},
   "outputs": [],
   "source": [
    "def callback(data):\n",
    "    global dx,dy,angle\n",
    "    dx = data.pose.pose.position.x\n",
    "    dy = data.pose.pose.position.y\n",
    "    \n",
    "    quat = [data.pose.pose.orientation.x,\n",
    "            data.pose.pose.orientation.y,\n",
    "            data.pose.pose.orientation.z,\n",
    "            data.pose.pose.orientation.w]\n",
    "    \n",
    "    angle = math.degrees(euler_from_quaternion(quat))"
   ]
  },
  {
   "cell_type": "code",
   "execution_count": 5,
   "id": "96f8d58d",
   "metadata": {},
   "outputs": [],
   "source": [
    "def measurementThread():\n",
    "    running_thread = True\n",
    "    \n",
    "    # Create a suscribe to Odometry node using callback function   \n",
    "    odomSuscriber = rospy.Subscriber('/odom', Odometry, callback)\n",
    "    \n",
    "    rate = rospy.Rate(1)\n",
    "    rate.sleep()\n",
    "    rospy.spin()"
   ]
  },
  {
   "cell_type": "code",
   "execution_count": 6,
   "id": "37e330a7",
   "metadata": {},
   "outputs": [],
   "source": [
    "def calculateDistance(x0,y0,x1,y1):\n",
    "    return math.sqrt((x0-x1)**2+(y0-y1)**2)"
   ]
  },
  {
   "cell_type": "code",
   "execution_count": 7,
   "id": "255d0902",
   "metadata": {},
   "outputs": [],
   "source": [
    "def Move(distance=1,speed=0.2):\n",
    "    direction = -1 if speed < 0 else 1\n",
    "    global dx,dy,angle\n",
    "    global real_angle, real_x, real_y\n",
    "    global moved_distance\n",
    "    \n",
    "    move = Twist()\n",
    "    move.linear.x=speed\n",
    "    r = rospy.Rate(2)\n",
    "    \n",
    "    init_x = dx\n",
    "    init_y = dy\n",
    "    \n",
    "    while calculateDistance(init_x,init_y,dx,dy) < distance*0.95:\n",
    "        pub.publish(move)\n",
    "        time.sleep(0.8)\n",
    "    moved_distance = calculateDistance(init_x,init_y,dx,dy)*direction\n",
    "    print('/nmoved: ', moved_distance)\n",
    "    #print(f'shitty coordinates: angle={angle}, y={dx}, x={dy}')"
   ]
  },
  {
   "cell_type": "code",
   "execution_count": 8,
   "id": "d5cffb64",
   "metadata": {},
   "outputs": [],
   "source": [
    "def Rotate(degrees=10, direction='left'):\n",
    "    global dx,dy,angle\n",
    "    global angle\n",
    "    global real_angle\n",
    "    \n",
    "    # Angle symbol\n",
    "    direct = 1 if direction=='left' else -1\n",
    "    \n",
    "    # Create msg to communicate with ROS\n",
    "    rotate = Twist()\n",
    "    \n",
    "    # Define speed and direction of rotation\n",
    "    rotate.angular.z = direct*0.175\n",
    "    r = rospy.Rate(2)\n",
    "\n",
    "    # Rotate and calculate how much it rotated\n",
    "    init_angle = angle\n",
    "    while abs(init_angle-angle) < degrees*0.9:\n",
    "        pub.publish(rotate)\n",
    "        time.sleep(0.8)\n",
    "        \n",
    "    # Update real_angle\n",
    "    rotated=direct*abs(init_angle-angle)\n",
    "    real_angle-=rotated\n",
    "    \n",
    "    # Make sure real_angle is between 0-360\n",
    "    if real_angle/360>1:\n",
    "        real_angle-=360\n",
    "    elif real_angle<0:\n",
    "        real_angle+=360\n",
    "    \n",
    "    print('rotated: ', rotated)\n",
    "    #print(f'shitty coordinates: angle={angle}, y={dx}, x={dy}')"
   ]
  },
  {
   "cell_type": "code",
   "execution_count": 9,
   "id": "942540fc",
   "metadata": {},
   "outputs": [],
   "source": [
    "def update_coordinates():\n",
    "    \n",
    "    time.sleep(0.5)\n",
    "    \n",
    "    global moved_distance\n",
    "    global real_angle, real_x, real_y\n",
    "    \n",
    "    if real_angle == 0: # Moved Forward ==> Y++\n",
    "        real_y+=moved_distance\n",
    "        \n",
    "    elif real_angle == 90: # Moved Right ==> X++\n",
    "        real_x+=moved_distance\n",
    "        \n",
    "    elif real_angle == 180: # Moved Backward ==> Y--\n",
    "        real_y-=moved_distance\n",
    "        \n",
    "    elif real_angle == 270: # Moved Left ==> X--\n",
    "        real_x-=moved_distance\n",
    "        \n",
    "    else:  # ==> Calculate X,Y components \n",
    "        delta_x = moved_distance*math.sin(math.radians(real_angle))\n",
    "        delta_y = moved_distance*math.cos(math.radians(real_angle))\n",
    "               \n",
    "        real_x += delta_x\n",
    "        real_y += delta_y"
   ]
  },
  {
   "cell_type": "code",
   "execution_count": 10,
   "id": "26d20509",
   "metadata": {},
   "outputs": [],
   "source": [
    "# Create a publisher to control movement\n",
    "pub = rospy.Publisher('cmd_vel', Twist, queue_size=1)\n",
    "\n",
    "# Run Thread\n",
    "running_thread = False\n",
    "if not running_thread:\n",
    "    thread = Thread(target = measurementThread)\n",
    "    thread.start()"
   ]
  },
  {
   "cell_type": "code",
   "execution_count": 57,
   "id": "bcc9a42c",
   "metadata": {},
   "outputs": [
    {
     "name": "stdout",
     "output_type": "stream",
     "text": [
      "/nmoved:  0.07572264257469076\n",
      "new coordinates: angle=359.6503217443994, y=4.437208512665624, x=1.1578500598759678\n"
     ]
    }
   ],
   "source": [
    "Move(distance=0.05, speed=+0.15)  # meters, m/s\n",
    "update_coordinates()\n",
    "print(f'new coordinates: angle={real_angle}, y={real_y}, x={real_x}')"
   ]
  },
  {
   "cell_type": "code",
   "execution_count": 54,
   "id": "d74bb0c5",
   "metadata": {},
   "outputs": [
    {
     "name": "stdout",
     "output_type": "stream",
     "text": [
      "rotated:  10.289324826243899\n",
      "new coordinates: angle=359.6503217443994, y=4.0595471853451555, x=1.1601549695029412\n"
     ]
    }
   ],
   "source": [
    "Rotate(degrees=10, direction='left')\n",
    "print(f'new coordinates: angle={real_angle}, y={real_y}, x={real_x}')"
   ]
  },
  {
   "cell_type": "code",
   "execution_count": null,
   "id": "77c11c08",
   "metadata": {},
   "outputs": [],
   "source": []
  }
 ],
 "metadata": {
  "kernelspec": {
   "display_name": "Python 3",
   "language": "python",
   "name": "python3"
  },
  "language_info": {
   "codemirror_mode": {
    "name": "ipython",
    "version": 3
   },
   "file_extension": ".py",
   "mimetype": "text/x-python",
   "name": "python",
   "nbconvert_exporter": "python",
   "pygments_lexer": "ipython3",
   "version": "3.6.9"
  }
 },
 "nbformat": 4,
 "nbformat_minor": 5
}
