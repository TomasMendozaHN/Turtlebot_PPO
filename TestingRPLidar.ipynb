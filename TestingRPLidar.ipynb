{
 "cells": [
  {
   "cell_type": "code",
   "execution_count": 1,
   "id": "d1ad846c",
   "metadata": {},
   "outputs": [
    {
     "data": {
      "text/plain": [
       "0"
      ]
     },
     "execution_count": 1,
     "metadata": {},
     "output_type": "execute_result"
    }
   ],
   "source": [
    "# Import\n",
    "from pyrplidar import PyRPlidar\n",
    "import getpass\n",
    "import os\n",
    "\n",
    "# Reset Lidar\n",
    "password = 'jetbot'\n",
    "command = \"sudo -S chmod 666 /dev/ttyUSB0\" #can be any command but don't forget -S as it enables input from stdin\n",
    "os.system('echo %s | %s' % (password, command))"
   ]
  },
  {
   "cell_type": "code",
   "execution_count": 2,
   "id": "832aefc7",
   "metadata": {},
   "outputs": [],
   "source": [
    "from rplidar import RPLidar\n",
    "import numpy as np\n",
    "\n",
    "lidar = RPLidar('/dev/ttyUSB0')\n",
    "\n",
    "info = lidar.get_info()"
   ]
  },
  {
   "cell_type": "code",
   "execution_count": 3,
   "id": "d3f17535",
   "metadata": {},
   "outputs": [],
   "source": [
    "angles=[x*10 for x in range(36)]\n",
    "readings = {k:[] for k in angles}\n",
    "\n",
    "anglesDelta = [x for x in range(360)]\n",
    "\n",
    "fancyAngles = [[x]*10 for x in angles]\n",
    "fancyAngles = [x for y in fancyAngles for x in y]\n",
    "\n",
    "angles_dict = {k:v for k,v in zip(anglesDelta,fancyAngles)}"
   ]
  },
  {
   "cell_type": "code",
   "execution_count": 4,
   "id": "7a16a125",
   "metadata": {},
   "outputs": [
    {
     "name": "stdout",
     "output_type": "stream",
     "text": [
      "{0: 0, 10: 0, 20: 0, 30: 0, 40: 0, 50: 0, 60: 0, 70: 3000, 80: 3000, 90: 3000, 100: 0, 110: 1608, 120: 1593, 130: 3000, 140: 3000, 150: 432, 160: 275, 170: 0, 180: 517, 190: 0, 200: 488, 210: 562, 220: 687, 230: 0, 240: 839, 250: 846, 260: 836, 270: 0, 280: 914, 290: 931, 300: 948, 310: 941, 320: 0, 330: 2665, 340: 0, 350: 1605}\n",
      "{0: 1328, 10: 1218, 20: 1168, 30: 1781, 40: 2269, 50: 1550, 60: 1856, 70: 3000, 80: 3000, 90: 3000, 100: 0, 110: 1610, 120: 1599, 130: 3000, 140: 3000, 150: 463, 160: 0, 170: 342, 180: 0, 190: 0, 200: 484, 210: 580, 220: 678, 230: 932, 240: 834, 250: 843, 260: 982, 270: 0, 280: 913, 290: 933, 300: 952, 310: 937, 320: 0, 330: 2665, 340: 2315, 350: 1504}\n",
      "{0: 1320, 10: 1220, 20: 1166, 30: 2059, 40: 0, 50: 0, 60: 1848, 70: 3000, 80: 3000, 90: 3000, 100: 0, 110: 1606, 120: 1584, 130: 0, 140: 0, 150: 0, 160: 0, 170: 0, 180: 0, 190: 0, 200: 485, 210: 489, 220: 690, 230: 0, 240: 840, 250: 844, 260: 0, 270: 0, 280: 913, 290: 932, 300: 941, 310: 939, 320: 2343, 330: 2548, 340: 2274, 350: 1603}\n",
      "{0: 1323, 10: 1221, 20: 1169, 30: 2065, 40: 2269, 50: 0, 60: 1855, 70: 2878, 80: 3000, 90: 3000, 100: 0, 110: 1608, 120: 1588, 130: 3000, 140: 0, 150: 432, 160: 277, 170: 0, 180: 0, 190: 0, 200: 487, 210: 581, 220: 687, 230: 0, 240: 839, 250: 846, 260: 836, 270: 0, 280: 914, 290: 931, 300: 943, 310: 0, 320: 2278, 330: 2548, 340: 2375, 350: 1498}\n",
      "{0: 1330, 10: 1222, 20: 1164, 30: 2064, 40: 2299, 50: 1547, 60: 1860, 70: 2878, 80: 3000, 90: 3000, 100: 0, 110: 1606, 120: 1590, 130: 3000, 140: 0, 150: 432, 160: 306, 170: 341, 180: 0, 190: 0, 200: 487, 210: 606, 220: 689, 230: 0, 240: 839, 250: 843, 260: 0, 270: 0, 280: 914, 290: 931, 300: 950, 310: 940, 320: 2431, 330: 2665, 340: 0, 350: 1498}\n",
      "{0: 1326, 10: 1217, 20: 1170, 30: 2061, 40: 2249, 50: 0, 60: 1859, 70: 2877, 80: 3000, 90: 0, 100: 0, 110: 1607, 120: 1592, 130: 3000, 140: 0, 150: 432, 160: 0, 170: 0, 180: 0, 190: 0, 200: 487, 210: 580, 220: 678, 230: 0, 240: 834, 250: 844, 260: 0, 270: 0, 280: 914, 290: 932, 300: 952, 310: 938, 320: 0, 330: 2665, 340: 0, 350: 1503}\n",
      "{0: 1326, 10: 1217, 20: 1170, 30: 2061, 40: 2249, 50: 0, 60: 1859, 70: 2877, 80: 3000, 90: 0, 100: 0, 110: 1607, 120: 1592, 130: 3000, 140: 0, 150: 432, 160: 0, 170: 0, 180: 0, 190: 0, 200: 487, 210: 580, 220: 678, 230: 0, 240: 834, 250: 844, 260: 0, 270: 0, 280: 914, 290: 932, 300: 952, 310: 938, 320: 0, 330: 2665, 340: 0, 350: 1503}\n"
     ]
    }
   ],
   "source": [
    "for i, scan in enumerate(lidar.iter_scans()):\n",
    "    \n",
    "    readings = {k:[] for k in angles}\n",
    "    \n",
    "    angle, distance = np.array(scan).astype(int)[:,1], np.array(scan).astype(int)[:,2]\n",
    "    distance = [3000 if x>3000 else x for x in distance]\n",
    "    \n",
    "    for idx,delta in enumerate(angle):\n",
    "        key = angles_dict[delta]\n",
    "        readings[key].append(distance[idx])\n",
    "    \n",
    "    readings={k:0 if len(v)==0 else int(np.mean(v)) for k,v in readings.items()}\n",
    "    print(readings)\n",
    "    \n",
    "    if i==5:\n",
    "        break\n",
    "\n",
    "print(readings)\n",
    "\n",
    "lidar.stop()\n",
    "lidar.stop_motor()\n",
    "lidar.disconnect()"
   ]
  },
  {
   "cell_type": "code",
   "execution_count": null,
   "id": "de8fc306",
   "metadata": {},
   "outputs": [],
   "source": []
  }
 ],
 "metadata": {
  "kernelspec": {
   "display_name": "Python 3",
   "language": "python",
   "name": "python3"
  },
  "language_info": {
   "codemirror_mode": {
    "name": "ipython",
    "version": 3
   },
   "file_extension": ".py",
   "mimetype": "text/x-python",
   "name": "python",
   "nbconvert_exporter": "python",
   "pygments_lexer": "ipython3",
   "version": "3.6.9"
  }
 },
 "nbformat": 4,
 "nbformat_minor": 5
}
