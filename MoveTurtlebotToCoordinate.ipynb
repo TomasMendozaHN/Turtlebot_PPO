{
 "cells": [
  {
   "cell_type": "code",
   "execution_count": null,
   "id": "7292ba12",
   "metadata": {},
   "outputs": [],
   "source": [
    "import rospy\n",
    "from geometry_msgs.msg import Twist, Point, Quaternion\n",
    "from math import radians, copysign, sqrt, pow, pi, atan2\n",
    "import time\n",
    "\n",
    "from nav_msgs.msg import Odometry"
   ]
  },
  {
   "cell_type": "code",
   "execution_count": null,
   "id": "dcc8f511",
   "metadata": {},
   "outputs": [],
   "source": [
    "dx,dy = 0,0"
   ]
  },
  {
   "cell_type": "markdown",
   "id": "638d070e",
   "metadata": {},
   "source": [
    "## Callback Function to get position X and Y"
   ]
  },
  {
   "cell_type": "code",
   "execution_count": null,
   "id": "117a983e",
   "metadata": {},
   "outputs": [],
   "source": [
    "## This function tells the suscriber what to receive from ROS\n",
    "def callback(data):\n",
    "    global dx,dy\n",
    "    dx = round(data.pose.pose.position.x,3)\n",
    "    dy = round(data.pose.pose.position.y,3)\n",
    "    print('dx, dy: ', dx,dy)"
   ]
  },
  {
   "cell_type": "markdown",
   "id": "b2575698",
   "metadata": {},
   "source": [
    "## Create Rospy node and suscribe to it"
   ]
  },
  {
   "cell_type": "code",
   "execution_count": null,
   "id": "57251f61",
   "metadata": {},
   "outputs": [],
   "source": [
    "def get_coordinates():\n",
    "    \n",
    "    # Create a suscribe to Odometry node using callback function   \n",
    "    odomSuscriber = rospy.Subscriber('/odom', Odometry, callback)\n",
    "    \n",
    "    # After 4ms, unregister (close) suscriber to avoid infinite loop of incoming data\n",
    "    time.sleep(0.04)\n",
    "    odomSuscriber.unregister()"
   ]
  },
  {
   "cell_type": "markdown",
   "id": "58f2a5c1",
   "metadata": {},
   "source": [
    "## Move Turtlebot3"
   ]
  },
  {
   "cell_type": "code",
   "execution_count": null,
   "id": "83407501",
   "metadata": {},
   "outputs": [],
   "source": [
    "def moveRobot(speed):\n",
    "    # Create a publisher to control movement\n",
    "    pub = rospy.Publisher('cmd_vel', Twist, queue_size=1)\n",
    "    \n",
    "    move = Twist()\n",
    "    move.linear.x=speed\n",
    "    r = rospy.Rate(2)\n",
    "    pub.publish(move)\n",
    "    time.sleep(2.5)"
   ]
  },
  {
   "cell_type": "markdown",
   "id": "9e10ef75",
   "metadata": {},
   "source": [
    "## Start"
   ]
  },
  {
   "cell_type": "code",
   "execution_count": null,
   "id": "4b286995",
   "metadata": {},
   "outputs": [],
   "source": [
    "# Create Node to communicate with ROS\n",
    "rospy.init_node('turtlebot3_teleop')"
   ]
  },
  {
   "cell_type": "code",
   "execution_count": null,
   "id": "ccc14941",
   "metadata": {},
   "outputs": [],
   "source": [
    "# x,_ = get_coordinates()\n",
    "# print(x)"
   ]
  },
  {
   "cell_type": "code",
   "execution_count": null,
   "id": "371877d6",
   "metadata": {},
   "outputs": [],
   "source": [
    "# moveRobot(0.1)"
   ]
  },
  {
   "cell_type": "code",
   "execution_count": null,
   "id": "e62a4f3a",
   "metadata": {},
   "outputs": [],
   "source": [
    "# x,_ = get_coordinates()\n",
    "# print(x)"
   ]
  },
  {
   "cell_type": "markdown",
   "id": "67403b05",
   "metadata": {},
   "source": [
    "## Test continuous movement:"
   ]
  },
  {
   "cell_type": "code",
   "execution_count": null,
   "id": "74471ed5",
   "metadata": {},
   "outputs": [],
   "source": [
    "global dx\n",
    "get_coordinates()\n",
    "init_x = dx\n",
    "print(dx)"
   ]
  },
  {
   "cell_type": "code",
   "execution_count": null,
   "id": "59439d34",
   "metadata": {},
   "outputs": [],
   "source": [
    "global dx\n",
    "\n",
    "while abs(dx-init_x) < 1.00:  # Keep moving until it has moved 1 meter\n",
    "    \n",
    "    # Move\n",
    "    moveRobot(speed=0.1)\n",
    "\n",
    "    time.sleep(1)\n",
    "    \n",
    "    get_coordinates()\n",
    "\n",
    "    print('moved: ', abs(dx-init_x))"
   ]
  },
  {
   "cell_type": "code",
   "execution_count": null,
   "id": "777cbc6c",
   "metadata": {},
   "outputs": [],
   "source": [
    "get_coordinates()\n",
    "print(abs(dx-init_x))"
   ]
  },
  {
   "cell_type": "code",
   "execution_count": null,
   "id": "0d467b2b",
   "metadata": {},
   "outputs": [],
   "source": []
  }
 ],
 "metadata": {
  "kernelspec": {
   "display_name": "Python 3",
   "language": "python",
   "name": "python3"
  },
  "language_info": {
   "codemirror_mode": {
    "name": "ipython",
    "version": 3
   },
   "file_extension": ".py",
   "mimetype": "text/x-python",
   "name": "python",
   "nbconvert_exporter": "python",
   "pygments_lexer": "ipython3",
   "version": "3.6.9"
  }
 },
 "nbformat": 4,
 "nbformat_minor": 5
}
