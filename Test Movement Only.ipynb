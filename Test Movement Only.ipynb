{
 "cells": [
  {
   "cell_type": "code",
   "execution_count": 1,
   "id": "27c99f84",
   "metadata": {},
   "outputs": [],
   "source": [
    "%run Scripts/Utils_ContinuousMovement.ipynb"
   ]
  },
  {
   "cell_type": "code",
   "execution_count": 2,
   "id": "3da87f40-11e2-4492-a1e6-dda4584e064b",
   "metadata": {},
   "outputs": [],
   "source": [
    "# Create Node to communicate with ROS\n",
    "rospy.init_node('sub_odom')\n",
    "dx,dy,angle = 0,0,0\n",
    "real_angle, real_x, real_y = 0,0,0\n",
    "moved_distance = 0\n",
    "rotations,movements = [],[]\n",
    "# Create a publisher to control movement\n",
    "pub = rospy.Publisher('cmd_vel', Twist, queue_size=1)"
   ]
  },
  {
   "cell_type": "code",
   "execution_count": null,
   "id": "d660e52b-6c9e-49a3-8d09-cdf178a444a5",
   "metadata": {},
   "outputs": [],
   "source": [
    "Rotate(degrees=5, direction='left')\n",
    "update_coordinates()\n",
    "print(f'new coordinates: angle={real_angle}, y={real_y}, x={real_x}')"
   ]
  },
  {
   "cell_type": "code",
   "execution_count": null,
   "id": "bc92c53d-128e-43c2-aa22-6a4078244d3d",
   "metadata": {},
   "outputs": [],
   "source": []
  }
 ],
 "metadata": {
  "kernelspec": {
   "display_name": "Python 3",
   "language": "python",
   "name": "python3"
  },
  "language_info": {
   "codemirror_mode": {
    "name": "ipython",
    "version": 3
   },
   "file_extension": ".py",
   "mimetype": "text/x-python",
   "name": "python",
   "nbconvert_exporter": "python",
   "pygments_lexer": "ipython3",
   "version": "3.6.9"
  }
 },
 "nbformat": 4,
 "nbformat_minor": 5
}
