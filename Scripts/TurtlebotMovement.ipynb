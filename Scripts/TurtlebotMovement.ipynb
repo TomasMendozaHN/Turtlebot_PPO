{
 "cells": [
  {
   "cell_type": "code",
   "execution_count": 2,
   "id": "2112da45",
   "metadata": {},
   "outputs": [],
   "source": [
    "import rospy\n",
    "from geometry_msgs.msg import Twist\n",
    "import sys, select, os\n",
    "if os.name == 'nt':\n",
    "    import msvcrt\n",
    "else:\n",
    "    import tty, termios\n",
    "\n",
    "MAX_LIN_VEL = 0.40\n",
    "MAX_ANG_VEL = 2.79\n",
    "\n",
    "# burger : 0.22/2.84    waffle : 0.26/1.82\n",
    "\n",
    "LIN_VEL_STEP_SIZE = 0.01\n",
    "ANG_VEL_STEP_SIZE = 0.1\n"
   ]
  },
  {
   "cell_type": "code",
   "execution_count": 3,
   "id": "7927012f",
   "metadata": {},
   "outputs": [],
   "source": [
    "def getKey():\n",
    "    if os.name == 'nt':\n",
    "        return msvcrt.getch()\n",
    "\n",
    "    tty.setraw(sys.stdin.fileno())\n",
    "    rlist, _, _ = select.select([sys.stdin], [], [], 0.1)\n",
    "    if rlist:\n",
    "        key = sys.stdin.read(1)\n",
    "    else:\n",
    "        key = ''\n",
    "\n",
    "    termios.tcsetattr(sys.stdin, termios.TCSADRAIN, settings)\n",
    "    return key"
   ]
  },
  {
   "cell_type": "code",
   "execution_count": 4,
   "id": "6f71ca5e",
   "metadata": {},
   "outputs": [],
   "source": [
    "def vels(target_linear_x_vel, target_linear_y_vel, target_angular_vel):\n",
    "    return \"currently:\\tlinear_vel\\tx %s\\ty %s\\t angular vel %s \" % (target_linear_x_vel,target_linear_y_vel,target_angular_vel)"
   ]
  },
  {
   "cell_type": "code",
   "execution_count": 5,
   "id": "8f3ad9e5",
   "metadata": {},
   "outputs": [],
   "source": [
    "def makeSimpleProfile(output, input, slop):\n",
    "    if input > output:\n",
    "        output = min( input, output + slop )\n",
    "    elif input < output:\n",
    "        output = max( input, output - slop )\n",
    "    else:\n",
    "        output = input\n",
    "\n",
    "    return output"
   ]
  },
  {
   "cell_type": "code",
   "execution_count": 6,
   "id": "46cb496e",
   "metadata": {},
   "outputs": [],
   "source": [
    "def constrain(input, low, high):\n",
    "    if input < low:\n",
    "        input = low\n",
    "    elif input > high:\n",
    "        input = high\n",
    "    else:\n",
    "        input = input\n",
    "\n",
    "    return input"
   ]
  },
  {
   "cell_type": "code",
   "execution_count": 7,
   "id": "ef8c7af8",
   "metadata": {},
   "outputs": [],
   "source": [
    "def checkLinearLimitVelocity(vel):\n",
    "    vel = constrain(vel, -MAX_LIN_VEL, MAX_LIN_VEL)\n",
    "\n",
    "    return vel"
   ]
  },
  {
   "cell_type": "code",
   "execution_count": 8,
   "id": "c247c5b2",
   "metadata": {},
   "outputs": [],
   "source": [
    "def checkAngularLimitVelocity(vel):\n",
    "    vel = constrain(vel, -MAX_ANG_VEL, MAX_ANG_VEL)\n",
    "\n",
    "    return vel"
   ]
  },
  {
   "cell_type": "code",
   "execution_count": 24,
   "id": "a38e6cba",
   "metadata": {},
   "outputs": [],
   "source": [
    "rospy.init_node('turtlebot3_teleop')\n",
    "pub = rospy.Publisher('cmd_vel', Twist, queue_size=10)"
   ]
  },
  {
   "cell_type": "markdown",
   "id": "31faf238-ba69-4270-a9ce-5926f8d6c1d2",
   "metadata": {},
   "source": [
    "# Function to Move"
   ]
  },
  {
   "cell_type": "code",
   "execution_count": 33,
   "id": "49fd6838-63ea-4f31-a277-4fae15cee490",
   "metadata": {},
   "outputs": [],
   "source": [
    "def turtlebotMove(action, time_move=0.5):\n",
    "    # Variables\n",
    "    control_linear_x_vel = 0   \n",
    "    target_linear_x_vel = checkLinearLimitVelocity(action)\n",
    "    \n",
    "    # To control the board\n",
    "    twist = Twist()\n",
    "    control_linear_x_vel = makeSimpleProfile(control_linear_x_vel, target_linear_x_vel, time_move)\n",
    "    twist.linear.x = control_linear_x_vel; \n",
    "    twist.linear.y = 0.0; twist.linear.z = 0.0\n",
    "    twist.angular.x = 0.0; twist.angular.y = 0.0; twist.angular.z = 0.0\n",
    "    \n",
    "    # Move!\n",
    "    pub.publish(twist)"
   ]
  },
  {
   "cell_type": "markdown",
   "id": "75698a34-aa60-4950-8b7b-40756b8b77a7",
   "metadata": {},
   "source": [
    "# Function to Rotate"
   ]
  },
  {
   "cell_type": "code",
   "execution_count": null,
   "id": "757937aa-b93f-4878-b546-d7ecfb09e8d0",
   "metadata": {},
   "outputs": [],
   "source": [
    "def turtlebotRotate(action, time_rotate=0.2):\n",
    "    # Variables\n",
    "    control_angular_vel  = 0.0\n",
    "    target_angular_vel = checkAngularLimitVelocity(action)\n",
    "\n",
    "    # To control the board\n",
    "    twist = Twist()\n",
    "    twist.linear.x = 0.0; twist.linear.y = 0.0; twist.linear.z = 0.0\n",
    "    control_angular_vel = makeSimpleProfile(control_angular_vel, target_angular_vel, time_rotate)\n",
    "    twist.angular.x = 0.0; twist.angular.y = 0.0; twist.angular.z = control_angular_vel\n",
    "    \n",
    "    # Rotate!\n",
    "    pub.publish(twist)"
   ]
  }
 ],
 "metadata": {
  "kernelspec": {
   "display_name": "Python 3",
   "language": "python",
   "name": "python3"
  },
  "language_info": {
   "codemirror_mode": {
    "name": "ipython",
    "version": 3
   },
   "file_extension": ".py",
   "mimetype": "text/x-python",
   "name": "python",
   "nbconvert_exporter": "python",
   "pygments_lexer": "ipython3",
   "version": "3.6.9"
  }
 },
 "nbformat": 4,
 "nbformat_minor": 5
}
