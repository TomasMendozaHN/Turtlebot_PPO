{
 "cells": [
  {
   "cell_type": "code",
   "execution_count": 1,
   "id": "869eff18",
   "metadata": {},
   "outputs": [
    {
     "name": "stdout",
     "output_type": "stream",
     "text": [
      "Servo Motors Ready!\n",
      "Lidar has started streaming data!\n",
      "Object recognition model Ready!\n"
     ]
    }
   ],
   "source": [
    "%run Utils/Utils.ipynb\n",
    "%run Utils/Utils_Widgets.ipynb"
   ]
  },
  {
   "cell_type": "code",
   "execution_count": 2,
   "id": "a1d43c70",
   "metadata": {},
   "outputs": [
    {
     "name": "stdout",
     "output_type": "stream",
     "text": [
      "jetcam library imported\n",
      "jetcam ready!\n",
      "torchvision imported\n",
      "Loading model...\n",
      "FRCNN model ready!\n"
     ]
    }
   ],
   "source": [
    "# %run Utils/Utils_DepthCam.ipynb\n",
    "%run Utils/Utils_Camera.ipynb"
   ]
  },
  {
   "cell_type": "markdown",
   "id": "f5dc2cfe",
   "metadata": {},
   "source": [
    "# Parameters"
   ]
  },
  {
   "cell_type": "code",
   "execution_count": 3,
   "id": "b57354fd",
   "metadata": {},
   "outputs": [
    {
     "name": "stdout",
     "output_type": "stream",
     "text": [
      "[5.835, -1.95, 5.5, -19.522, 0, 0.894, 0.886, 0.905, 0.954, 1.046, 1.184, 1.427, 1.847, 2.803, 2.739, 2.733, 2.798, 2.939, 0.001, 3.682, 4.406, 2.333, 2.43, 3.524, 5.544, 1.448, 1.526, 0.001, 1.225, 1.035, 0.924, 0.862, 0.841, 0.853, 0.892, 0.968, 1.07, 1.228, 1.121, 1.001, 0.93]\n"
     ]
    }
   ],
   "source": [
    "goal_x_coor = -1.95 #-1.95  # in m, measured relative to the initial robot coordinates\n",
    "goal_y_coor = 5.5 # 5.5  # in m, measured relative to the initial robot coordinatontrol_thread = False\n",
    "\n",
    "running_control_thread = False\n",
    "\n",
    "getObservation()\n",
    "print(observation)"
   ]
  },
  {
   "cell_type": "code",
   "execution_count": 4,
   "id": "bcc98fee",
   "metadata": {},
   "outputs": [
    {
     "name": "stdout",
     "output_type": "stream",
     "text": [
      "Model Loaded!\n"
     ]
    }
   ],
   "source": [
    "model_path = \"Turtlebot3_0331.pth\"\n",
    "agent = torch.load(model_path)\n",
    "agent.eval()\n",
    "print('Model Loaded!')"
   ]
  },
  {
   "cell_type": "markdown",
   "id": "f7d33c82",
   "metadata": {},
   "source": [
    "# Control"
   ]
  },
  {
   "cell_type": "code",
   "execution_count": 5,
   "id": "d2f392f7",
   "metadata": {},
   "outputs": [],
   "source": [
    "def ControlRobot():\n",
    "    step = 0\n",
    "    delay_counter = 0\n",
    "    while True:\n",
    "        \n",
    "        delay_counter+=1\n",
    "        \n",
    "        getObservation()\n",
    "\n",
    "        # Get an Observation\n",
    "        try:\n",
    "            getObservation()\n",
    "        except:\n",
    "            continue\n",
    "\n",
    "        updateStateWidgets()\n",
    "                   \n",
    "        # Get Action\n",
    "        actions = GetAction(agent)\n",
    "                \n",
    "        if delay_counter>10:\n",
    "        \n",
    "#             # If still far away\n",
    "            if observation[0] > 0.2:\n",
    "                print(f'Performing action = {actions}')\n",
    "                act(actions)\n",
    "\n",
    "            else:\n",
    "                print(\"reached goal\")\n",
    "                continue\n",
    "\n",
    "            "
   ]
  },
  {
   "cell_type": "code",
   "execution_count": 6,
   "id": "70df8c8d",
   "metadata": {},
   "outputs": [],
   "source": [
    "def showDepthcamFeed():\n",
    "    global clockIsVisible, color\n",
    "    global running_control_thread\n",
    "    \n",
    "    while True:\n",
    "        # Get a frame from the depthCamera\n",
    "        color,_ = GetFrames(frontalCamera, getColor=True)\n",
    "        \n",
    "        # Normalize + send to CUDA\n",
    "        image = torch.FloatTensor(color).transpose(0, 2)\n",
    "        image = image[None,:]/255.0\n",
    "        image = image.to(DEVICE)\n",
    "\n",
    "        # Obtain BBoxes + Labels from model\n",
    "        detections = model(image)[0]\n",
    "        try:\n",
    "            boxes, labels = detections['boxes'].detach().cpu().numpy(), detections['labels'].detach().cpu().numpy()\n",
    "        except:\n",
    "            boxes = [[0]]\n",
    "            labels = [0]\n",
    "\n",
    "        # Move all bboxes + labels that don't belong to a clock\n",
    "        \n",
    "        boxes = [box for box,label in zip(boxes,labels) if label == 85]\n",
    "        labels = [label for label in labels if label == 85] # 85 ==> clock\n",
    "        \n",
    "        # If Clock was found, draw the bounding box\n",
    "        if len(labels)>0:\n",
    "            clockIsVisible = 1\n",
    "            for idx,box in enumerate(boxes):\n",
    "                cv2.rectangle(color, (box[0], box[2]), (box[1], box[3]), (255, 0, 0), 1)\n",
    "        \n",
    "        # If Clock not visible, let the State vector know about it.\n",
    "        else:\n",
    "            clockIsVisible = 0\n",
    "\n",
    "            \n",
    "        # Run Control Thread\n",
    "        if running_control_thread == False:\n",
    "            \n",
    "            controlThread = Thread(target = ControlRobot)\n",
    "            controlThread.start()\n",
    "            running_control_thread = True"
   ]
  },
  {
   "cell_type": "code",
   "execution_count": 7,
   "id": "f8fb15f0",
   "metadata": {},
   "outputs": [],
   "source": [
    "def showDepthcamFeed_TRT_CSI():\n",
    "    global clockIsVisible, image\n",
    "    global running_control_thread\n",
    "    \n",
    "    while True:\n",
    "\n",
    "        # Obtain BBoxes + Labels from model\n",
    "        detections = getDetections(image)\n",
    "        \n",
    "        if 85 in detections:\n",
    "            clockIsVisible = 1   \n",
    "            \n",
    "        else:\n",
    "            clockIsVisible = 0\n",
    "        \n",
    "            \n",
    "        # Run Control Thread\n",
    "        if running_control_thread == False:\n",
    "            \n",
    "            controlThread = Thread(target = ControlRobot)\n",
    "            controlThread.start()\n",
    "            running_control_thread = True"
   ]
  },
  {
   "cell_type": "code",
   "execution_count": 8,
   "id": "c1cb9722",
   "metadata": {},
   "outputs": [],
   "source": [
    "def showDepthcamFeed_TRT():\n",
    "    global clockIsVisible, color\n",
    "    global running_control_thread\n",
    "    \n",
    "    while True:\n",
    "        # Get a frame from the depthCamera\n",
    "        color,_ = GetFrames(frontalCamera, getColor=True)\n",
    "        \n",
    "        \n",
    "        # Obtain BBoxes + Labels from model\n",
    "        detections = getDetections(color)\n",
    "        \n",
    "        if 85 in detections:\n",
    "            clockIsVisible = 1   \n",
    "            \n",
    "        else:\n",
    "            clockIsVisible = 0\n",
    "        \n",
    "            \n",
    "        # Run Control Thread\n",
    "        if running_control_thread == False:\n",
    "            \n",
    "            controlThread = Thread(target = ControlRobot)\n",
    "            controlThread.start()\n",
    "            running_control_thread = True"
   ]
  },
  {
   "cell_type": "code",
   "execution_count": 9,
   "id": "4874d17f",
   "metadata": {},
   "outputs": [],
   "source": [
    "def showCSIFeed():\n",
    "    global clockIsVisible, image\n",
    "    global running_control_thread\n",
    "    \n",
    "    while True:\n",
    "        \n",
    "        # Normalize + send to CUDA\n",
    "        image_ = torch.FloatTensor(image).transpose(0, 2)\n",
    "        image_ = image_[None,:]/255.0\n",
    "        image_ = image_.to(DEVICE)\n",
    "        \n",
    "        # Obtain BBoxes + Labels from model\n",
    "        detections = model(image_)[0]\n",
    "        try:\n",
    "            boxes, labels = detections['boxes'].detach().cpu().numpy(), detections['labels'].detach().cpu().numpy()\n",
    "        except:\n",
    "            boxes = [[0]]\n",
    "            labels = [0]\n",
    "\n",
    "        # Move all bboxes + labels that don't belong to a clock\n",
    "        \n",
    "        boxes = [box for box,label in zip(boxes,labels) if label == 85]\n",
    "        labels = [label for label in labels if label == 85] # 85 ==> clock\n",
    "        \n",
    "        \n",
    "        # If Clock was found, draw the bounding box\n",
    "        if len(labels)>0:\n",
    "            clockIsVisible = 1\n",
    "        \n",
    "        # If Clock not visible, let the State vector know about it.\n",
    "        else:\n",
    "            clockIsVisible = 0\n",
    "        \n",
    "            \n",
    "        # Run Control Thread\n",
    "        if running_control_thread == False:\n",
    "            controlThread = Thread(target = ControlRobot)\n",
    "            controlThread.start()\n",
    "            running_control_thread = True"
   ]
  },
  {
   "cell_type": "code",
   "execution_count": 10,
   "id": "70fd54bf",
   "metadata": {},
   "outputs": [
    {
     "data": {
      "application/vnd.jupyter.widget-view+json": {
       "model_id": "4f5a342b8fee4cdcadf0b066d9ad300f",
       "version_major": 2,
       "version_minor": 0
      },
      "text/plain": [
       "HBox(children=(VBox(children=(HTML(value=''), HTML(value=''), HTML(value=''), HTML(value=''), HTML(value='')),…"
      ]
     },
     "metadata": {},
     "output_type": "display_data"
    }
   ],
   "source": [
    "display(full_widget)"
   ]
  },
  {
   "cell_type": "code",
   "execution_count": 11,
   "id": "d732a400",
   "metadata": {},
   "outputs": [
    {
     "data": {
      "application/vnd.jupyter.widget-view+json": {
       "model_id": "1f5c77c7b8b7447dbd56294e2ee9f435",
       "version_major": 2,
       "version_minor": 0
      },
      "text/plain": [
       "HBox(children=(Image(value=b'', format='jpeg', height='480', width='640'),), layout=Layout(width='100%'))"
      ]
     },
     "metadata": {},
     "output_type": "display_data"
    }
   ],
   "source": [
    "# Delay Camera thread to make sure it works.\n",
    "display(image_widget)"
   ]
  },
  {
   "cell_type": "code",
   "execution_count": 12,
   "id": "1fc0e474",
   "metadata": {
    "scrolled": false
   },
   "outputs": [],
   "source": [
    "# Start camera\n",
    "execute({'new': camera.value})\n",
    "camera.observe(execute, names='value')"
   ]
  },
  {
   "cell_type": "code",
   "execution_count": null,
   "id": "68c32b41",
   "metadata": {},
   "outputs": [
    {
     "name": "stdout",
     "output_type": "stream",
     "text": [
      "Performing action = [1, 1]\n",
      "/nmoved:  0.15080857169394182\n",
      "Performing action = [1, 2]\n",
      "/nmoved:  0.15127084909075825\n",
      "Performing action = [1, 2]\n",
      "/nmoved:  0.15468305824588285\n",
      "Performing action = [2, 1]\n",
      "/nmoved:  -0.15023496849343787\n",
      "Performing action = [2, 2]\n",
      "/nmoved:  -0.15078985639865658\n",
      "Performing action = [1, 2]\n",
      "/nmoved:  0.15092420130682682\n",
      "Performing action = [1, 0]\n",
      "/nmoved:  0.15004211973976775\n",
      "Performing action = [1, 1]\n",
      "/nmoved:  0.15126850661568528\n",
      "Performing action = [2, 2]\n",
      "/nmoved:  -0.15136616689447915\n",
      "Performing action = [1, 1]\n",
      "/nmoved:  0.15155650540571675\n",
      "Performing action = [1, 1]\n",
      "/nmoved:  0.1508659155980191\n",
      "Performing action = [0, 1]\n",
      "Performing action = [1, 2]\n",
      "/nmoved:  0.15063630949392495\n",
      "Performing action = [1, 2]\n"
     ]
    }
   ],
   "source": [
    "showCSIFeed()"
   ]
  }
 ],
 "metadata": {
  "kernelspec": {
   "display_name": "Python 3",
   "language": "python",
   "name": "python3"
  },
  "language_info": {
   "codemirror_mode": {
    "name": "ipython",
    "version": 3
   },
   "file_extension": ".py",
   "mimetype": "text/x-python",
   "name": "python",
   "nbconvert_exporter": "python",
   "pygments_lexer": "ipython3",
   "version": "3.6.9"
  }
 },
 "nbformat": 4,
 "nbformat_minor": 5
}
