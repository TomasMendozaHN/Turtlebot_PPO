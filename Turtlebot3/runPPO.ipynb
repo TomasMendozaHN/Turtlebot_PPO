{
 "cells": [
  {
   "cell_type": "code",
   "execution_count": 2,
   "id": "869eff18",
   "metadata": {},
   "outputs": [
    {
     "name": "stdout",
     "output_type": "stream",
     "text": [
      "Servo Motors Ready!\n",
      "{'model': 24, 'firmware': (1, 29), 'hardware': 7, 'serialnumber': '9C9F9A86C0E09CC7A2E09DF70E4D3077'}\n",
      "('Good', 0)\n",
      "Lidar has started streaming data!\n",
      "Object recognition model Ready!\n",
      "shutdown request: [/ttb3_test] Reason: new node registered with same name\n"
     ]
    },
    {
     "name": "stderr",
     "output_type": "stream",
     "text": [
      "Exception in thread Thread-13:\n",
      "Traceback (most recent call last):\n",
      "  File \"/usr/lib/python3.6/threading.py\", line 916, in _bootstrap_inner\n",
      "    self.run()\n",
      "  File \"/usr/lib/python3.6/threading.py\", line 864, in run\n",
      "    self._target(*self._args, **self._kwargs)\n",
      "  File \"<ipython-input-2-eefeaeb09446>\", line 7, in readLidarThread\n",
      "    for scan in lidar.iter_scans(scan_type='express', min_len = 100, max_buf_meas=False):\n",
      "  File \"/home/jetbot/.local/lib/python3.6/site-packages/rplidar.py\", line 446, in iter_scans\n",
      "    for new_scan, quality, angle, distance in iterator:\n",
      "  File \"/home/jetbot/.local/lib/python3.6/site-packages/rplidar.py\", line 411, in iter_measures\n",
      "    self._read_response(dsize))\n",
      "  File \"/home/jetbot/.local/lib/python3.6/site-packages/rplidar.py\", line 466, in from_string\n",
      "    raise ValueError('try to parse corrupted data ({})'.format(packet))\n",
      "ValueError: try to parse corrupted data (bytearray(b'%\\xccg%\\xdf$\\xccs$\\x0f$\\xcc\\xb3#\\x8f#\\xbc{###\\xbb\\xc7\"\\x87\"\\xbb7\"\\xcf!\\xbb\\x83!G!\\xbb\\x0b!\\xbf \\xbbs C \\xbb\\x1b \\x0b \\xbb\\xf3\\x1f\\xbf\\x1f\\xbb\\x8b\\x1f_\\x1f\\xbb/\\x1f\\x03\\x1f\\xbb\\xdb\\x1e\\xbb\\x1e\\xab\\x93\\x1eg\\x1e\\xab\\xa5Z\\x14\\x00\\x00\\x00\\x04'))\n",
      "\n"
     ]
    }
   ],
   "source": [
    "%run Utils/Utils.ipynb\n",
    "%run Utils/Utils_Widgets.ipynb"
   ]
  },
  {
   "cell_type": "code",
   "execution_count": null,
   "id": "a1d43c70",
   "metadata": {},
   "outputs": [],
   "source": [
    "# %run Utils/Utils_DepthCam.ipynb\n",
    "%run Utils/Utils_Camera.ipynb"
   ]
  },
  {
   "cell_type": "code",
   "execution_count": null,
   "id": "8b65c9ea",
   "metadata": {},
   "outputs": [],
   "source": [
    "#!pip install paho.mqtt\n",
    "%run Utils/Utils_MQTT.ipynb\n",
    "stepCount = 1"
   ]
  },
  {
   "cell_type": "markdown",
   "id": "f5dc2cfe",
   "metadata": {},
   "source": [
    "# Parameters"
   ]
  },
  {
   "cell_type": "code",
   "execution_count": null,
   "id": "b57354fd",
   "metadata": {},
   "outputs": [],
   "source": [
    "goal_x_coor = -1.6 #-1.95 #1.6  # in m, measured relative to the initial robot coordinates\n",
    "goal_y_coor = 5.20 #5.5 #5.20  # in m, measured relative to the initial robot coordinates\n",
    "\n",
    "running_control_thread = False\n",
    "\n",
    "getObservation()\n",
    "print(observation)"
   ]
  },
  {
   "cell_type": "code",
   "execution_count": null,
   "id": "bcc98fee",
   "metadata": {},
   "outputs": [],
   "source": [
    "# model_path = \"Turtlebot3_0331.pth\"\n",
    "model_path = \"Turtlebot3_LSTM.pth\"\n",
    "agent = torch.load(model_path)\n",
    "agent.eval()\n",
    "print('Model Loaded!')"
   ]
  },
  {
   "cell_type": "code",
   "execution_count": null,
   "id": "985af804",
   "metadata": {},
   "outputs": [],
   "source": [
    "#getObservation()\n",
    "memories = torch.ones((1,1,256))\n",
    "masks = torch.ones((1,6))"
   ]
  },
  {
   "cell_type": "markdown",
   "id": "e02d26ca",
   "metadata": {},
   "source": [
    "# Initialize Logging"
   ]
  },
  {
   "cell_type": "code",
   "execution_count": null,
   "id": "c107651c",
   "metadata": {},
   "outputs": [],
   "source": [
    "import logging\n",
    "import datetime\n",
    "\n",
    "now = datetime.datetime.now()\n",
    "dt_string = now.strftime(\"%Y%m%d__%H_%M_%S\")"
   ]
  },
  {
   "cell_type": "code",
   "execution_count": null,
   "id": "23f2ba0c",
   "metadata": {},
   "outputs": [],
   "source": [
    "for handler in logging.root.handlers[:]:\n",
    "    logging.root.removeHandler(handler)\n",
    "\n",
    "logging.basicConfig(filename=\"log_{}.txt\".format(dt_string), level=logging.ERROR, format=\"%(asctime)s %(message)s\")\n",
    "logging.error(\"{},{},{},{}\".format(real_x, real_y, real_angle, stepCount))"
   ]
  },
  {
   "cell_type": "code",
   "execution_count": null,
   "id": "8e2c35f0",
   "metadata": {},
   "outputs": [],
   "source": [
    "# Test\n",
    "\n",
    "# observation = [1]*41\n",
    "\n",
    "# dists, value_out, memories = agent.get_dist_and_value(vec_inputs=[torch.Tensor(observation).cuda()], vis_inputs=[], masks=masks, memories=memories)\n",
    "# actions = GetActionDiscrete(agent)  # LSTM\n",
    "# # actions = GetAction(agent)          # MLP\n",
    "# actions\n",
    "\n",
    "# for dist in dists:\n",
    "#     print(dist.entropy())\n",
    "    \n",
    "# for dist in dists:\n",
    "#     print(dist.probs)\n",
    "#     dist.probs=dist.probs*5\n",
    "    \n",
    "#     print(dist.probs)\n",
    "    \n",
    "# for dist in dists:\n",
    "#     print(dist.probs)\n",
    "    \n",
    "# for dist in dists:\n",
    "#     print(dist.entropy())\n",
    "    \n",
    "# actions = []\n",
    "# for dist in dists:\n",
    "#     actions.append(dist.sample().cpu().numpy()[0][0])\n",
    "# print(actions)"
   ]
  },
  {
   "cell_type": "markdown",
   "id": "f7d33c82",
   "metadata": {},
   "source": [
    "# Control"
   ]
  },
  {
   "cell_type": "code",
   "execution_count": null,
   "id": "d2f392f7",
   "metadata": {},
   "outputs": [],
   "source": [
    "def ControlRobot(debug=False):\n",
    "    \n",
    "    global stepCount\n",
    "\n",
    "    delay_counter = 0\n",
    "    while True:\n",
    "\n",
    "        # Get an Observation\n",
    "        try:\n",
    "            getObservation()\n",
    "        except:\n",
    "            continue\n",
    "\n",
    "        updateStateWidgets()\n",
    "        \n",
    "        # Get Action\n",
    "        #actions = GetAction(agent)         # Get act ion from MLP\n",
    "        #actions = GetActionDiscrete(agent)  # Get action from LSTM\n",
    "        \n",
    "        actions = GetActionMod(agent)      # Get action from LSTM\n",
    "\n",
    "        if delay_counter>5:\n",
    "        \n",
    "            # If still far away\n",
    "            if observation[0] > 0.50:\n",
    "                #print(f'Performing action = {actions}')\n",
    "                act(actions)\n",
    "                #a=0\n",
    "\n",
    "            else:\n",
    "                print(\"reached goal\")\n",
    "                break\n",
    "                \n",
    "        delay_counter+=1\n",
    "\n",
    "            "
   ]
  },
  {
   "cell_type": "code",
   "execution_count": null,
   "id": "f8fb15f0",
   "metadata": {},
   "outputs": [],
   "source": [
    "def showDepthcamFeed_TRT_CSI():\n",
    "    global clockIsVisible, image\n",
    "    global running_control_thread\n",
    "    \n",
    "    while True:\n",
    "\n",
    "        # Obtain BBoxes + Labels from model\n",
    "        detections = getDetections(image)\n",
    "        \n",
    "        # 85 = clock, \n",
    "        if 85 in detections : # or 31 in detections or 25 in detections or 85 in detections:\n",
    "            clockIsVisible =1 \n",
    "        else:\n",
    "            clockIsVisible = 0\n",
    "        \n",
    "            \n",
    "        # Run Control Thread\n",
    "        if running_control_thread == False:\n",
    "            \n",
    "            controlThread = Thread(target = ControlRobot)\n",
    "            controlThread.start()\n",
    "            running_control_thread = True"
   ]
  },
  {
   "cell_type": "code",
   "execution_count": null,
   "id": "388abddc",
   "metadata": {},
   "outputs": [],
   "source": [
    "stepCount"
   ]
  },
  {
   "cell_type": "code",
   "execution_count": null,
   "id": "70fd54bf",
   "metadata": {
    "scrolled": false
   },
   "outputs": [],
   "source": [
    "display(full_widget)"
   ]
  },
  {
   "cell_type": "code",
   "execution_count": null,
   "id": "d732a400",
   "metadata": {},
   "outputs": [],
   "source": [
    "# Delay Camera thread to make sure it works.\n",
    "display(image_widget)"
   ]
  },
  {
   "cell_type": "code",
   "execution_count": null,
   "id": "1fc0e474",
   "metadata": {
    "scrolled": false
   },
   "outputs": [],
   "source": [
    "# Start camera\n",
    "execute({'new': camera.value})\n",
    "camera.observe(execute, names='value')"
   ]
  },
  {
   "cell_type": "code",
   "execution_count": null,
   "id": "68c32b41",
   "metadata": {},
   "outputs": [],
   "source": [
    "# showCSIFeed()\n",
    "showDepthcamFeed_TRT_CSI()"
   ]
  },
  {
   "cell_type": "code",
   "execution_count": null,
   "id": "02c8dcfe",
   "metadata": {},
   "outputs": [],
   "source": []
  },
  {
   "cell_type": "code",
   "execution_count": null,
   "id": "65bfc4f8",
   "metadata": {},
   "outputs": [],
   "source": []
  }
 ],
 "metadata": {
  "kernelspec": {
   "display_name": "Python 3",
   "language": "python",
   "name": "python3"
  },
  "language_info": {
   "codemirror_mode": {
    "name": "ipython",
    "version": 3
   },
   "file_extension": ".py",
   "mimetype": "text/x-python",
   "name": "python",
   "nbconvert_exporter": "python",
   "pygments_lexer": "ipython3",
   "version": "3.6.9"
  }
 },
 "nbformat": 4,
 "nbformat_minor": 5
}
