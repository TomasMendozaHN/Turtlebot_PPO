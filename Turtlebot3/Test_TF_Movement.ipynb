{
 "cells": [
  {
   "cell_type": "code",
   "execution_count": null,
   "id": "3db1a931",
   "metadata": {
    "scrolled": false
   },
   "outputs": [],
   "source": [
    "%run Utils/Utils.ipynb"
   ]
  },
  {
   "cell_type": "code",
   "execution_count": null,
   "id": "1e9d96e5",
   "metadata": {},
   "outputs": [],
   "source": [
    "import logging\n",
    "import datetime\n",
    "\n",
    "now = datetime.datetime.now()\n",
    "dt_string = now.strftime(\"%Y%m%d__%H_%M_%S\")\n",
    "\n",
    "for handler in logging.root.handlers[:]:\n",
    "    logging.root.removeHandler(handler)\n",
    "\n",
    "logging.basicConfig(filename=\"ignore.txt\", level=logging.ERROR, format=\"%(asctime)s %(message)s\")\n",
    "logging.error(\"{},{},{}\".format(real_x, real_y, real_angle))"
   ]
  },
  {
   "cell_type": "code",
   "execution_count": null,
   "id": "70bb7896",
   "metadata": {},
   "outputs": [],
   "source": [
    "print(\"X = {}, Y = {}, angle = {}\".format(real_x, real_y, real_angle))\n",
    "\n",
    "Rotate(degrees=10, direction='right')\n",
    "\n",
    "print(\"Rotated. X = {}, Y = {}, angle = {}\".format(real_x, real_y, real_angle))\n",
    "\n",
    "Move(0.15, 0.2)\n",
    "update_coordinates()\n",
    "print(\"Moved. X = {}, Y = {}, angle = {}\".format(real_x, real_y, real_angle))\n",
    "\n",
    "Rotate(degrees=10, direction='left')\n",
    "\n",
    "print(\"Rotated. X = {}, Y = {}, angle = {}\".format(real_x, real_y, real_angle))\n",
    "\n",
    "Move(0.15, 0.2)\n",
    "update_coordinates()\n",
    "print(\"Moved. X = {}, Y = {}, angle = {}\".format(real_x, real_y, real_angle))\n",
    "\n",
    "Rotate(degrees=10, direction='right')\n",
    "\n",
    "print(\"Rotated. X = {}, Y = {}, angle = {}\".format(real_x, real_y, real_angle))\n",
    "\n",
    "Move(0.15, 0.2)\n",
    "update_coordinates()\n",
    "print(\"Moved. X = {}, Y = {}, angle = {}\".format(real_x, real_y, real_angle))\n",
    "\n",
    "Rotate(degrees=10, direction='left')\n",
    "\n",
    "print(\"Rotated. X = {}, Y = {}, angle = {}\".format(real_x, real_y, real_angle))\n",
    "\n",
    "Move(0.15, 0.2)\n",
    "update_coordinates()\n",
    "print(\"Moved. X = {}, Y = {}, angle = {}\".format(real_x, real_y, real_angle))\n",
    "\n",
    "Rotate(degrees=10, direction='right')\n",
    "\n",
    "print(\"Rotated. X = {}, Y = {}, angle = {}\".format(real_x, real_y, real_angle))\n",
    "\n",
    "Move(0.15, 0.2)\n",
    "update_coordinates()\n",
    "print(\"Moved. X = {}, Y = {}, angle = {}\".format(real_x, real_y, real_angle))"
   ]
  },
  {
   "cell_type": "code",
   "execution_count": null,
   "id": "c479745c",
   "metadata": {},
   "outputs": [],
   "source": [
    "Move(0.15, 0.2)\n",
    "update_coordinates()\n",
    "print(\"X = {}, Y = {}, angle = {}\".format(real_x, real_y, real_angle))"
   ]
  },
  {
   "cell_type": "code",
   "execution_count": null,
   "id": "ff412760",
   "metadata": {},
   "outputs": [],
   "source": [
    "Move(0.15, 0.2)\n",
    "update_coordinates()\n",
    "print(\"X = {}, Y = {}, angle = {}\".format(real_x, real_y, real_angle))"
   ]
  },
  {
   "cell_type": "code",
   "execution_count": null,
   "id": "e28cd606",
   "metadata": {},
   "outputs": [],
   "source": [
    "Move(0.15, 0.2)\n",
    "update_coordinates()\n",
    "print(\"X = {}, Y = {}, angle = {}\".format(real_x, real_y, real_angle))"
   ]
  },
  {
   "cell_type": "code",
   "execution_count": null,
   "id": "83bdd9ba",
   "metadata": {},
   "outputs": [],
   "source": [
    "Move(0.15, 0.2)\n",
    "update_coordinates()\n",
    "print(\"X = {}, Y = {}, angle = {}\".format(real_x, real_y, real_angle))"
   ]
  },
  {
   "cell_type": "code",
   "execution_count": null,
   "id": "b6b5316f",
   "metadata": {},
   "outputs": [],
   "source": [
    "Move(0.15, 0.2)\n",
    "update_coordinates()\n",
    "print(\"X = {}, Y = {}, angle = {}\".format(real_x, real_y, real_angle))"
   ]
  },
  {
   "cell_type": "code",
   "execution_count": null,
   "id": "32d7483a",
   "metadata": {},
   "outputs": [],
   "source": [
    "Move(0.15, 0.2)\n",
    "update_coordinates()\n",
    "print(\"X = {}, Y = {}, angle = {}\".format(real_x, real_y, real_angle))"
   ]
  },
  {
   "cell_type": "code",
   "execution_count": null,
   "id": "97b2ced7",
   "metadata": {},
   "outputs": [],
   "source": [
    "Move(0.15, 0.2)\n",
    "update_coordinates()\n",
    "print(\"X = {}, Y = {}, angle = {}\".format(real_x, real_y, real_angle))"
   ]
  },
  {
   "cell_type": "code",
   "execution_count": null,
   "id": "b4455bd1",
   "metadata": {},
   "outputs": [],
   "source": [
    "Rotate(degrees=10, direction='left')\n",
    "print(\"X = {}, Y = {}, angle = {}\".format(real_x, real_y, real_angle))"
   ]
  },
  {
   "cell_type": "code",
   "execution_count": null,
   "id": "05b118b5",
   "metadata": {},
   "outputs": [],
   "source": [
    "Rotate(degrees=10, direction='left')\n",
    "print(\"X = {}, Y = {}, angle = {}\".format(real_x, real_y, real_angle))"
   ]
  },
  {
   "cell_type": "code",
   "execution_count": null,
   "id": "64062dc3",
   "metadata": {},
   "outputs": [],
   "source": [
    "Rotate(degrees=10, direction='left')\n",
    "print(\"X = {}, Y = {}, angle = {}\".format(real_x, real_y, real_angle))"
   ]
  },
  {
   "cell_type": "code",
   "execution_count": null,
   "id": "926d3577",
   "metadata": {},
   "outputs": [],
   "source": [
    "Rotate(degrees=10, direction='left')\n",
    "print(\"X = {}, Y = {}, angle = {}\".format(real_x, real_y, real_angle))"
   ]
  },
  {
   "cell_type": "code",
   "execution_count": null,
   "id": "87c57d52",
   "metadata": {},
   "outputs": [],
   "source": [
    "Rotate(degrees=10, direction='right')\n",
    "print(\"X = {}, Y = {}, angle = {}\".format(real_x, real_y, real_angle))"
   ]
  },
  {
   "cell_type": "code",
   "execution_count": null,
   "id": "3b8ffc8d",
   "metadata": {},
   "outputs": [],
   "source": [
    "Rotate(degrees=10, direction='left')\n",
    "print(\"X = {}, Y = {}, angle = {}\".format(real_x, real_y, real_angle))"
   ]
  },
  {
   "cell_type": "code",
   "execution_count": null,
   "id": "aa469615",
   "metadata": {},
   "outputs": [],
   "source": [
    "Rotate(degrees=10, direction='right')\n",
    "print(\"X = {}, Y = {}, angle = {}\".format(real_x, real_y, real_angle))"
   ]
  },
  {
   "cell_type": "code",
   "execution_count": null,
   "id": "44312dac",
   "metadata": {},
   "outputs": [],
   "source": [
    "Rotate(degrees=10, direction='right')\n",
    "print(\"X = {}, Y = {}, angle = {}\".format(real_x, real_y, real_angle))"
   ]
  },
  {
   "cell_type": "code",
   "execution_count": null,
   "id": "2a1dabb3",
   "metadata": {},
   "outputs": [],
   "source": [
    "Rotate(degrees=10, direction='right')\n",
    "print(\"X = {}, Y = {}, angle = {}\".format(real_x, real_y, real_angle))"
   ]
  },
  {
   "cell_type": "code",
   "execution_count": null,
   "id": "4b808de1",
   "metadata": {},
   "outputs": [],
   "source": []
  }
 ],
 "metadata": {
  "kernelspec": {
   "display_name": "Python 3",
   "language": "python",
   "name": "python3"
  },
  "language_info": {
   "codemirror_mode": {
    "name": "ipython",
    "version": 3
   },
   "file_extension": ".py",
   "mimetype": "text/x-python",
   "name": "python",
   "nbconvert_exporter": "python",
   "pygments_lexer": "ipython3",
   "version": "3.6.9"
  }
 },
 "nbformat": 4,
 "nbformat_minor": 5
}
