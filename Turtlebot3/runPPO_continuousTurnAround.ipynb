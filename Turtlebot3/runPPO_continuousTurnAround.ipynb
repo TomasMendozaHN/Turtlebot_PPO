{
 "cells": [
  {
   "cell_type": "code",
   "execution_count": null,
   "id": "869eff18",
   "metadata": {},
   "outputs": [],
   "source": [
    "%run Utils/Utils.ipynb"
   ]
  },
  {
   "cell_type": "code",
   "execution_count": null,
   "id": "6e78512b",
   "metadata": {},
   "outputs": [],
   "source": [
    "''' If you ever have trouble with lidar, try running the code below. It should work after 1 or 2 tries.\n",
    "If you get error about no device being connected, try using port 0, 1 or 2.'''\n",
    "# from rplidar import RPLidar\n",
    "# lidar = RPLidar('/dev/ttyUSB1')\n",
    "\n",
    "# info = lidar.get_info()\n",
    "# print(info)\n",
    "\n",
    "# health = lidar.get_health()\n",
    "# print(health)\n",
    "\n",
    "# for i, scan in enumerate(lidar.iter_scans()):\n",
    "#     print('%d: Got %d measurments' % (i, len(scan)))\n",
    "#     if i > 1000:\n",
    "#         break\n",
    "\n",
    "# lidar.stop()\n",
    "# lidar.stop_motor()\n",
    "# lidar.disconnect()"
   ]
  },
  {
   "cell_type": "code",
   "execution_count": null,
   "id": "6d49c00d",
   "metadata": {},
   "outputs": [],
   "source": [
    "%run Utils/Utils_Widgets.ipynb"
   ]
  },
  {
   "cell_type": "code",
   "execution_count": null,
   "id": "a1d43c70",
   "metadata": {},
   "outputs": [],
   "source": [
    "# %run Utils/Utils_DepthCam.ipynb\n",
    "%run Utils/Utils_Camera.ipynb"
   ]
  },
  {
   "cell_type": "code",
   "execution_count": null,
   "id": "8b65c9ea",
   "metadata": {},
   "outputs": [],
   "source": [
    "#!pip install paho.mqtt\n",
    "%run Utils/Utils_MQTT.ipynb\n",
    "stepCount = 1"
   ]
  },
  {
   "cell_type": "markdown",
   "id": "f5dc2cfe",
   "metadata": {},
   "source": [
    "# Parameters"
   ]
  },
  {
   "cell_type": "code",
   "execution_count": null,
   "id": "b57354fd",
   "metadata": {},
   "outputs": [],
   "source": [
    "import copy\n",
    "\n",
    "goal_x_coor = 0 #-1.95 #1.6  # in m, measured relative to the initial robot coordinates\n",
    "goal_y_coor = 0.80 #5.5 #5.20  # in m, measured relative to the initial robot coordinates\n",
    "\n",
    "# Save the original goal location. This will help us to continuously go back to the \n",
    "# original X and Y coordinates we set above. \n",
    "orig_x_coor = copy.deepcopy(goal_x_coor) \n",
    "orig_y_coor = copy.deepcopy(goal_y_coor) \n",
    "\n",
    "running_control_thread = False\n",
    "\n",
    "getObservation()\n",
    "print(observation)"
   ]
  },
  {
   "cell_type": "code",
   "execution_count": null,
   "id": "bcc98fee",
   "metadata": {},
   "outputs": [],
   "source": [
    "# model_path = \"Turtlebot3_0331.pth\"\n",
    "model_path = \"Turtlebot3_LSTM.pth\"\n",
    "agent = torch.load(model_path)\n",
    "agent.eval()\n",
    "print('Model Loaded!')"
   ]
  },
  {
   "cell_type": "code",
   "execution_count": null,
   "id": "985af804",
   "metadata": {},
   "outputs": [],
   "source": [
    "#getObservation()\n",
    "memories = torch.ones((1,1,256))\n",
    "masks = torch.ones((1,6))"
   ]
  },
  {
   "cell_type": "markdown",
   "id": "e02d26ca",
   "metadata": {},
   "source": [
    "# Initialize Logging"
   ]
  },
  {
   "cell_type": "code",
   "execution_count": null,
   "id": "c107651c",
   "metadata": {},
   "outputs": [],
   "source": [
    "import logging\n",
    "import datetime\n",
    "\n",
    "now = datetime.datetime.now()\n",
    "dt_string = now.strftime(\"%Y%m%d__%H_%M_%S\")"
   ]
  },
  {
   "cell_type": "code",
   "execution_count": null,
   "id": "23f2ba0c",
   "metadata": {},
   "outputs": [],
   "source": [
    "for handler in logging.root.handlers[:]:\n",
    "    logging.root.removeHandler(handler)\n",
    "\n",
    "logging.basicConfig(filename=\"log_{}.txt\".format(dt_string), level=logging.ERROR, format=\"%(asctime)s %(message)s\")\n",
    "logging.error(\"{},{},{},{}\".format(real_x, real_y, real_angle, stepCount))"
   ]
  },
  {
   "cell_type": "code",
   "execution_count": null,
   "id": "8e2c35f0",
   "metadata": {},
   "outputs": [],
   "source": [
    "# Test\n",
    "\n",
    "# observation = [1]*41\n",
    "\n",
    "# dists, value_out, memories = agent.get_dist_and_value(vec_inputs=[torch.Tensor(observation).cuda()], vis_inputs=[], masks=masks, memories=memories)\n",
    "# actions = GetActionDiscrete(agent)  # LSTM\n",
    "# # actions = GetAction(agent)          # MLP\n",
    "# actions\n",
    "\n",
    "# for dist in dists:\n",
    "#     print(dist.entropy())\n",
    "    \n",
    "# for dist in dists:\n",
    "#     print(dist.probs)\n",
    "#     dist.probs=dist.probs*5\n",
    "    \n",
    "#     print(dist.probs)\n",
    "    \n",
    "# for dist in dists:\n",
    "#     print(dist.probs)\n",
    "    \n",
    "# for dist in dists:\n",
    "#     print(dist.entropy())\n",
    "    \n",
    "# actions = []\n",
    "# for dist in dists:\n",
    "#     actions.append(dist.sample().cpu().numpy()[0][0])\n",
    "# print(actions)"
   ]
  },
  {
   "cell_type": "markdown",
   "id": "f7d33c82",
   "metadata": {},
   "source": [
    "# Control"
   ]
  },
  {
   "cell_type": "code",
   "execution_count": null,
   "id": "d2f392f7",
   "metadata": {},
   "outputs": [],
   "source": [
    "def ControlRobot(debug=False):\n",
    "    \n",
    "    global stepCount\n",
    "    global goal_x_coor, goal_y_coor\n",
    "    global orig_x_coor, orig_y_coor\n",
    "\n",
    "    delay_counter = 0\n",
    "    \n",
    "    \n",
    "    \n",
    "    # When lap number is even, it means we are going towards the original goal\n",
    "    # when it is odd, it means we are going back towards the origin\n",
    "    lapNumber = 2 \n",
    "\n",
    "    while True:\n",
    "        \n",
    "        # If we are in an even lap number, make the goal the original goal location\n",
    "        if lapNumber % 2 == 0:\n",
    "            goal_x_coor = copy.deepcopy(orig_x_coor)\n",
    "            goal_y_coor = copy.deepcopy(orig_y_coor)\n",
    "            \n",
    "        # Otherwise, make the goal the origin location\n",
    "        else:\n",
    "            goal_x_coor = 0\n",
    "            goal_y_coor = 0\n",
    "            \n",
    "        # Update the state vector before checking the angle!\n",
    "        getObservation()\n",
    "            \n",
    "        # Rotate the robot!!!\n",
    "        while observation[3] > 20 or observation[3] < -20:\n",
    "            \n",
    "            print(\"Rotating. Current angle to new goal = \", observation[3])\n",
    "\n",
    "            if observation[3] > 0:  # Right\n",
    "                Rotate(degrees=10, direction='right', speed=0.20)\n",
    "\n",
    "            elif observation[3] < 0:  # Left\n",
    "                Rotate(degrees=10, direction='left', speed=0.20)\n",
    "                \n",
    "            # Update the state vector after rotating!\n",
    "            getObservation()\n",
    "            \n",
    "            \n",
    "        # When the robot reaches goal, this becomes false and robot rotates. \n",
    "        moving = True  \n",
    "        \n",
    "        print(f\"Goal x = {goal_x_coor}, goal y = {goal_y_coor}, angle to goal = {observation[3]}\")\n",
    "\n",
    "        # As long as we are inside this loop, our robot will move towards the goal\n",
    "        while moving == True:\n",
    "\n",
    "            # Get an Observation\n",
    "            try:\n",
    "                getObservation()\n",
    "            except:\n",
    "                continue\n",
    "\n",
    "            updateStateWidgets()\n",
    "\n",
    "            # Get Action\n",
    "            #actions = GetAction(agent)         # Get act ion from MLP\n",
    "            #actions = GetActionDiscrete(agent)  # Get action from LSTM\n",
    "\n",
    "            actions = GetActionMod(agent)      # Get action from LSTM\n",
    "\n",
    "            # Add a short delay at the beginning to give enough time for everything to load\n",
    "            if delay_counter>5:\n",
    "\n",
    "                # If still far away\n",
    "                if observation[0] > 0.40:\n",
    "                    #print(f'Performing action = {actions}')\n",
    "                    act(actions)\n",
    "                    #a=0\n",
    "\n",
    "                # If you enter here, it means you have reached the goal\n",
    "                else:\n",
    "                    print(\"reached goal! Time to rotate.\")\n",
    "                    \n",
    "                    # Increase the lap number \n",
    "                    lapNumber += 1 \n",
    "                    \n",
    "                    # Stop moving towards the goal, and exit this while to start rotating\n",
    "                    # towards the opposite direction! :) \n",
    "                    moving = False\n",
    "\n",
    "            delay_counter+=1\n",
    "            "
   ]
  },
  {
   "cell_type": "code",
   "execution_count": null,
   "id": "f8fb15f0",
   "metadata": {},
   "outputs": [],
   "source": [
    "def showDepthcamFeed_TRT_CSI():\n",
    "    global clockIsVisible, image\n",
    "    global running_control_thread\n",
    "    \n",
    "    while True:\n",
    "\n",
    "        # Obtain BBoxes + Labels from model\n",
    "        detections = getDetections(image)\n",
    "        \n",
    "        # 85 = clock, \n",
    "        if 85 in detections : # or 31 in detections or 25 in detections or 85 in detections:\n",
    "            clockIsVisible =1 \n",
    "        else:\n",
    "            clockIsVisible = 0\n",
    "        \n",
    "            \n",
    "        # Run Control Thread\n",
    "        if running_control_thread == False:\n",
    "            \n",
    "            controlThread = Thread(target = ControlRobot)\n",
    "            controlThread.start()\n",
    "            running_control_thread = True"
   ]
  },
  {
   "cell_type": "code",
   "execution_count": null,
   "id": "388abddc",
   "metadata": {},
   "outputs": [],
   "source": [
    "stepCount"
   ]
  },
  {
   "cell_type": "code",
   "execution_count": null,
   "id": "70fd54bf",
   "metadata": {
    "scrolled": false
   },
   "outputs": [],
   "source": [
    "display(full_widget)"
   ]
  },
  {
   "cell_type": "code",
   "execution_count": null,
   "id": "d732a400",
   "metadata": {},
   "outputs": [],
   "source": [
    "# Delay Camera thread to make sure it works.\n",
    "display(image_widget)"
   ]
  },
  {
   "cell_type": "code",
   "execution_count": null,
   "id": "1fc0e474",
   "metadata": {
    "scrolled": false
   },
   "outputs": [],
   "source": [
    "# Start camera\n",
    "execute({'new': camera.value})\n",
    "camera.observe(execute, names='value')"
   ]
  },
  {
   "cell_type": "code",
   "execution_count": null,
   "id": "68c32b41",
   "metadata": {},
   "outputs": [],
   "source": [
    "# showCSIFeed()\n",
    "showDepthcamFeed_TRT_CSI()"
   ]
  },
  {
   "cell_type": "code",
   "execution_count": null,
   "id": "02c8dcfe",
   "metadata": {},
   "outputs": [],
   "source": []
  },
  {
   "cell_type": "code",
   "execution_count": null,
   "id": "65bfc4f8",
   "metadata": {},
   "outputs": [],
   "source": []
  }
 ],
 "metadata": {
  "kernelspec": {
   "display_name": "Python 3",
   "language": "python",
   "name": "python3"
  },
  "language_info": {
   "codemirror_mode": {
    "name": "ipython",
    "version": 3
   },
   "file_extension": ".py",
   "mimetype": "text/x-python",
   "name": "python",
   "nbconvert_exporter": "python",
   "pygments_lexer": "ipython3",
   "version": "3.6.9"
  }
 },
 "nbformat": 4,
 "nbformat_minor": 5
}
