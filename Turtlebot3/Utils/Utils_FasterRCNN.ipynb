{
 "cells": [
  {
   "cell_type": "code",
   "execution_count": null,
   "id": "77cecb57",
   "metadata": {},
   "outputs": [],
   "source": [
    "import jetson.inference\n",
    "import jetson.utils\n",
    "import cv2"
   ]
  },
  {
   "cell_type": "markdown",
   "id": "e1b8f3f4",
   "metadata": {},
   "source": [
    "# Load Model"
   ]
  },
  {
   "cell_type": "code",
   "execution_count": null,
   "id": "58598dc6",
   "metadata": {},
   "outputs": [],
   "source": [
    "FRCNN_model = jetson.inference.detectNet(\"ssd-mobilenet-v2\", ['detectnet-snap.py'], 0.5)"
   ]
  },
  {
   "cell_type": "markdown",
   "id": "6c8a457e",
   "metadata": {},
   "source": [
    "# Get detections"
   ]
  },
  {
   "cell_type": "code",
   "execution_count": null,
   "id": "218bce33",
   "metadata": {},
   "outputs": [],
   "source": [
    "def getDetections(image):\n",
    "    \n",
    "    global FRCNN_model\n",
    "    \n",
    "    img = jetson.utils.cudaFromNumpy(image)\n",
    "    \n",
    "    detections = FRCNN_model.Detect(img, overlay=\"box,labels,conf\")\n",
    "    detections_list = [x.ClassID for x in detections]\n",
    "        \n",
    "    return detections_list"
   ]
  }
 ],
 "metadata": {
  "kernelspec": {
   "display_name": "Python 3",
   "language": "python",
   "name": "python3"
  },
  "language_info": {
   "codemirror_mode": {
    "name": "ipython",
    "version": 3
   },
   "file_extension": ".py",
   "mimetype": "text/x-python",
   "name": "python",
   "nbconvert_exporter": "python",
   "pygments_lexer": "ipython3",
   "version": "3.6.9"
  }
 },
 "nbformat": 4,
 "nbformat_minor": 5
}
