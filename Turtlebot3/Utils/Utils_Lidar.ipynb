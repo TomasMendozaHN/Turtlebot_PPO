{
 "cells": [
  {
   "cell_type": "code",
   "execution_count": 3,
   "id": "d128f1fc-f6bf-45c1-9f95-ce846b76c98e",
   "metadata": {},
   "outputs": [
    {
     "name": "stderr",
     "output_type": "stream",
     "text": [
      "Matplotlib created a temporary config/cache directory at /tmp/matplotlib-c20jgiec because the default path (/home/jetbot/.cache/matplotlib) is not a writable directory; it is highly recommended to set the MPLCONFIGDIR environment variable to a writable directory, in particular to speed up the import of Matplotlib and to better support multiprocessing.\n"
     ]
    }
   ],
   "source": [
    "import ipywidgets as widgets\n",
    "from IPython.display import display\n",
    "from threading import Thread\n",
    "import matplotlib.pyplot as plt\n",
    "#from mplsoccer import Radar\n",
    "import time\n",
    "import getpass\n",
    "import os\n",
    "\n",
    "# Reset Lidar\n",
    "password = 'jetbot'\n",
    "command = \"sudo -S chmod 666 /dev/ttyUSB0\" #can be any command but don't forget -S as it enables input from stdin\n",
    "os.system('echo %s | %s' % (password, command))\n",
    "\n",
    "command = \"sudo -S chmod 666 /dev/ttyUSB1\" #can be any command but don't forget -S as it enables input from stdin\n",
    "os.system('echo %s | %s' % (password, command))\n",
    "\n",
    "# Define what angles you want to measure\n",
    "angles = [x for x in range(360)]\n",
    "realAngles = [x*10 for x in range(9,36)]+[x*10 for x in range(0,9)]\n",
    "\n",
    "# Initialize all sensor readings to 0\n",
    "readings = {x:1 for x in angles} \n",
    "\n",
    "old_readings = None\n",
    "\n",
    "#radar = Radar(params=[str(x*10) for x in range(36)], min_range=[0]*36, max_range=[2]*36)"
   ]
  },
  {
   "cell_type": "code",
   "execution_count": null,
   "id": "4547ec11",
   "metadata": {},
   "outputs": [],
   "source": [
    "import time"
   ]
  },
  {
   "cell_type": "code",
   "execution_count": 1,
   "id": "1acdb26b",
   "metadata": {},
   "outputs": [],
   "source": [
    "def readLidarThread():\n",
    "    \n",
    "    global lidar, readings\n",
    "\n",
    "    while True:\n",
    "        \n",
    "        for scan in lidar.iter_scans(scan_type='express', min_len = 100, max_buf_meas=False):\n",
    "            readings_ = {int(x[1]): int(x[2]) for x in list(scan)}\n",
    "            for key,value in readings_.items():\n",
    "                readings[key]=value"
   ]
  },
  {
   "cell_type": "code",
   "execution_count": null,
   "id": "d02eff7c",
   "metadata": {},
   "outputs": [],
   "source": []
  }
 ],
 "metadata": {
  "kernelspec": {
   "display_name": "Python 3",
   "language": "python",
   "name": "python3"
  },
  "language_info": {
   "codemirror_mode": {
    "name": "ipython",
    "version": 3
   },
   "file_extension": ".py",
   "mimetype": "text/x-python",
   "name": "python",
   "nbconvert_exporter": "python",
   "pygments_lexer": "ipython3",
   "version": "3.6.9"
  }
 },
 "nbformat": 4,
 "nbformat_minor": 5
}
