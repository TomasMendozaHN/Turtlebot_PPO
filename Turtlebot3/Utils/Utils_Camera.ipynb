{
 "cells": [
  {
   "cell_type": "code",
   "execution_count": null,
   "id": "5d773cad",
   "metadata": {},
   "outputs": [],
   "source": [
    "import getpass\n",
    "import os\n",
    "\n",
    "image = 0\n",
    "\n",
    "# Reset Camera\n",
    "password = 'jetbot'\n",
    "command = \"sudo -S systemctl restart nvargus-daemon\" #can be any command but don't forget -S as it enables input from stdin\n",
    "os.system('echo %s | %s' % (password, command))"
   ]
  },
  {
   "cell_type": "code",
   "execution_count": null,
   "id": "cbb59770",
   "metadata": {},
   "outputs": [],
   "source": [
    "from jetcam.csi_camera import CSICamera\n",
    "print(\"jetcam library imported\")\n",
    "camera = CSICamera(width=640, height=480, capture_fps=10)\n",
    "camera.running = True\n",
    "print(\"jetcam ready!\")"
   ]
  },
  {
   "cell_type": "code",
   "execution_count": null,
   "id": "5e6655c9",
   "metadata": {},
   "outputs": [],
   "source": [
    "def execute(change):\n",
    "    global image\n",
    "    \n",
    "    image = change['new']   \n",
    "    #image_w.value = bgr8_to_jpeg(image[:, ::-1, :])"
   ]
  },
  {
   "cell_type": "code",
   "execution_count": null,
   "id": "1a35b35f",
   "metadata": {},
   "outputs": [],
   "source": [
    "import ipywidgets\n",
    "from IPython.display import display\n",
    "from jetcam.utils import bgr8_to_jpeg"
   ]
  },
  {
   "cell_type": "code",
   "execution_count": null,
   "id": "476f3373",
   "metadata": {},
   "outputs": [],
   "source": [
    "import torchvision.transforms as transforms\n",
    "#import pyrealsense2.pyrealsense2 as rs\n",
    "from threading import Thread\n",
    "import numpy as np\n",
    "import ipywidgets\n",
    "import time\n",
    "import cv2\n",
    "print(\"torchvision imported\")\n",
    "clockIsVisible = 0\n",
    "color = 0"
   ]
  },
  {
   "cell_type": "code",
   "execution_count": null,
   "id": "186470e0",
   "metadata": {},
   "outputs": [],
   "source": [
    "# Download Model from torchvision\n",
    "from torchvision.models import detection\n",
    "from torch2trt import torch2trt\n",
    "import torch\n",
    "print(\"Loading model...\")\n",
    "DEVICE = torch.device(\"cuda\" if torch.cuda.is_available() else \"cpu\")\n",
    "model = detection.fasterrcnn_resnet50_fpn(pretrained=True).to(DEVICE)\n",
    "model.eval()\n",
    "print(\"FRCNN model ready!\")"
   ]
  }
 ],
 "metadata": {
  "kernelspec": {
   "display_name": "Python 3",
   "language": "python",
   "name": "python3"
  },
  "language_info": {
   "codemirror_mode": {
    "name": "ipython",
    "version": 3
   },
   "file_extension": ".py",
   "mimetype": "text/x-python",
   "name": "python",
   "nbconvert_exporter": "python",
   "pygments_lexer": "ipython3",
   "version": "3.6.9"
  }
 },
 "nbformat": 4,
 "nbformat_minor": 5
}
