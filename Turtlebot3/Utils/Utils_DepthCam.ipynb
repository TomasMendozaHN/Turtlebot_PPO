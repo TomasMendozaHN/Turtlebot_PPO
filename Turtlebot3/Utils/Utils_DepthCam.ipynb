{
 "cells": [
  {
   "cell_type": "code",
   "execution_count": null,
   "id": "d5b224fd",
   "metadata": {},
   "outputs": [],
   "source": [
    "import torchvision.transforms as transforms\n",
    "import pyrealsense2.pyrealsense2 as rs\n",
    "from threading import Thread\n",
    "import numpy as np\n",
    "import ipywidgets\n",
    "import time\n",
    "import cv2\n",
    "\n",
    "clockIsVisible = 0\n",
    "color = 0"
   ]
  },
  {
   "cell_type": "code",
   "execution_count": null,
   "id": "ca3fa093",
   "metadata": {},
   "outputs": [],
   "source": [
    "def FindMyCameras():\n",
    "    ctx = rs.context()\n",
    "    devices = [x for x in list(ctx.query_devices())]\n",
    "    idxs = [str(x).find('S/N') for x in devices]\n",
    "    devices = [str(x)[y+5:y+17] for x,y in zip(devices,idxs)]\n",
    "    return devices"
   ]
  },
  {
   "cell_type": "code",
   "execution_count": null,
   "id": "e4c3ea4b",
   "metadata": {},
   "outputs": [],
   "source": [
    "def PrepareCamera(pipeline, serialNo, useRGB):\n",
    "    config = rs.config()\n",
    "    pipeline_wrapper = rs.pipeline_wrapper(pipeline)\n",
    "    pipeline_profile = config.resolve(pipeline_wrapper)\n",
    "    config.enable_device(serialNo)\n",
    "    config.enable_stream(rs.stream.depth, 640, 480, rs.format.z16, 30)\n",
    "    \n",
    "    if useRGB:\n",
    "        config.enable_stream(rs.stream.color, 640, 480, rs.format.bgr8, 30)\n",
    "    return config"
   ]
  },
  {
   "cell_type": "code",
   "execution_count": null,
   "id": "4c56c005",
   "metadata": {},
   "outputs": [],
   "source": [
    "def InitializeCameras(number_of_cameras):\n",
    "    cameras = FindMyCameras()\n",
    "    frontCam = rs.pipeline()\n",
    "    frontCamConfig = PrepareCamera(frontCam, cameras[0], useRGB=True)\n",
    "    profile_front = frontCam.start(frontCamConfig)\n",
    "    depth_sensor = profile_front.get_device().first_depth_sensor()\n",
    "    front_depth_scale = depth_sensor.get_depth_scale()\n",
    "    \n",
    "    if number_of_cameras == 2:\n",
    "        backCam = rs.pipeline()\n",
    "        backCamConfig = PrepareCamera(backCam, cameras[1], useRGB=False)\n",
    "        profile_back = backCam.start(backCamConfig)\n",
    "        depth_sensor = profile_back.get_device().first_depth_sensor()\n",
    "        back_depth_scale = depth_sensor.get_depth_scale()\n",
    "        print('Cameras ready to start streaming! :)')\n",
    "        return frontCam, backCam, front_depth_scale, back_depth_scale\n",
    "    \n",
    "    print('Camera ready to start streaming! :)')\n",
    "    return frontCam, frontCam, front_depth_scale, front_depth_scale"
   ]
  },
  {
   "cell_type": "code",
   "execution_count": null,
   "id": "9b430d0b",
   "metadata": {},
   "outputs": [],
   "source": [
    "''' Reads One Camera and returns Frames as arrays'''\n",
    "def GetFrames(camera, getColor=False):\n",
    "    align_to = rs.stream.color\n",
    "    align = rs.align(align_to)\n",
    "    frames = camera.wait_for_frames()\n",
    "    aligned_frames = align.process(frames)\n",
    "    depth_frame = aligned_frames.get_depth_frame()\n",
    "    depth_image = np.asanyarray(depth_frame.get_data())\n",
    "\n",
    "    if getColor:\n",
    "        color_frame = aligned_frames.get_color_frame()\n",
    "        color_image = np.asanyarray(color_frame.get_data())\n",
    "        color_image = cv2.flip(color_image, 1)\n",
    "        return color_image, depth_image\n",
    "    else:\n",
    "        return depth_image"
   ]
  },
  {
   "cell_type": "code",
   "execution_count": null,
   "id": "4e3174d0",
   "metadata": {},
   "outputs": [],
   "source": [
    "def bgr8_to_jpeg(value, quality=75):\n",
    "    return bytes(cv2.imencode('.jpg', value)[1])"
   ]
  },
  {
   "cell_type": "markdown",
   "id": "a8587d0a",
   "metadata": {},
   "source": [
    "## Prepare Widget and Initialize Cameras"
   ]
  },
  {
   "cell_type": "code",
   "execution_count": null,
   "id": "14190f0a",
   "metadata": {},
   "outputs": [],
   "source": [
    "frontalCamera, backwardCamera, frontScale, backScale = InitializeCameras(1)"
   ]
  },
  {
   "cell_type": "markdown",
   "id": "1f7b0e44",
   "metadata": {},
   "source": [
    "## Load ResNet Model"
   ]
  },
  {
   "cell_type": "code",
   "execution_count": null,
   "id": "19a319a2",
   "metadata": {},
   "outputs": [],
   "source": [
    "# Download Model from torchvision\n",
    "from torchvision.models import detection\n",
    "from torch2trt import torch2trt\n",
    "import torch\n",
    "DEVICE = torch.device(\"cuda\" if torch.cuda.is_available() else \"cpu\")\n",
    "model = detection.fasterrcnn_resnet50_fpn(pretrained=True).to(DEVICE)\n",
    "model.eval()"
   ]
  }
 ],
 "metadata": {
  "kernelspec": {
   "display_name": "Python 3",
   "language": "python",
   "name": "python3"
  },
  "language_info": {
   "codemirror_mode": {
    "name": "ipython",
    "version": 3
   },
   "file_extension": ".py",
   "mimetype": "text/x-python",
   "name": "python",
   "nbconvert_exporter": "python",
   "pygments_lexer": "ipython3",
   "version": "3.6.9"
  }
 },
 "nbformat": 4,
 "nbformat_minor": 5
}
