{
 "cells": [
  {
   "cell_type": "markdown",
   "id": "fef8fe03",
   "metadata": {},
   "source": [
    "# Engines"
   ]
  },
  {
   "cell_type": "code",
   "execution_count": null,
   "id": "c8067275",
   "metadata": {},
   "outputs": [],
   "source": [
    "%run Utils/Utils_ContinuousMovement.ipynb\n",
    "import numpy as np"
   ]
  },
  {
   "cell_type": "code",
   "execution_count": null,
   "id": "62e925c9",
   "metadata": {},
   "outputs": [],
   "source": [
    "# Create Node to communicate with ROS\n",
    "rospy.init_node('sub_odom')\n",
    "dx,dy,angle = 0,0,0\n",
    "real_angle, real_x, real_y = 0,0,0\n",
    "moved_distance = 0\n",
    "rotations,movements,observation = [],[],[]\n",
    "\n",
    "# Create a publisher to control movement\n",
    "pub = rospy.Publisher('cmd_vel', Twist, queue_size=1)\n",
    "\n",
    "# Run Thread\n",
    "running_thread = False\n",
    "if not running_thread:\n",
    "    servoThread = Thread(target = measurementThread)\n",
    "    servoThread.start()\n",
    "    print('Servo Motors Ready!')"
   ]
  },
  {
   "cell_type": "markdown",
   "id": "1434b5cc",
   "metadata": {},
   "source": [
    "# Lidar"
   ]
  },
  {
   "cell_type": "code",
   "execution_count": null,
   "id": "8bc5cc91",
   "metadata": {},
   "outputs": [],
   "source": [
    "%run Utils/Utils_Lidar.ipynb"
   ]
  },
  {
   "cell_type": "code",
   "execution_count": null,
   "id": "49938b22",
   "metadata": {},
   "outputs": [],
   "source": [
    "# Start Lidar\n",
    "from rplidar import RPLidar\n",
    "import rplidar\n",
    "\n",
    "lidar = RPLidar('/dev/ttyUSB0')\n",
    "lidar.motor_speed = rplidar.MAX_MOTOR_PWM\n",
    "\n",
    "lidarThread = Thread(target = readLidarThread)\n",
    "lidarThread.start()\n",
    "\n",
    "print(\"Lidar has started streaming data!\")"
   ]
  },
  {
   "cell_type": "markdown",
   "id": "f6be1c4a",
   "metadata": {},
   "source": [
    "# Faster RCNN"
   ]
  },
  {
   "cell_type": "code",
   "execution_count": null,
   "id": "83f55764",
   "metadata": {},
   "outputs": [],
   "source": [
    "%run Utils/Utils_FasterRCNN.ipynb\n",
    "print(\"Object recognition model Ready!\")"
   ]
  },
  {
   "cell_type": "markdown",
   "id": "62460837",
   "metadata": {},
   "source": [
    "## Get Actions"
   ]
  },
  {
   "cell_type": "code",
   "execution_count": null,
   "id": "0445ad5e",
   "metadata": {},
   "outputs": [],
   "source": [
    "def GetAction(agent):\n",
    "    global observation\n",
    "    observation = torch.Tensor(observation).cuda()\n",
    "    dists = agent.get_dists([observation], [], masks=torch.ones((1,6)))\n",
    "    actions = []\n",
    "    for dist in dists[0]:\n",
    "        actions.append(dist.sample().cpu().numpy()[0][0])\n",
    "    return actions"
   ]
  },
  {
   "cell_type": "code",
   "execution_count": null,
   "id": "78a0e679",
   "metadata": {},
   "outputs": [],
   "source": [
    "def GetAction_mod(agent):\n",
    "    global observation\n",
    "    observation = torch.Tensor(observation).cuda()\n",
    "    hidden,_ = agent.network_body(vis_inputs=[0],vec_inputs=[observation])\n",
    "    dists = agent.distribution(hidden, masks = torch.ones((1, 6)))\n",
    "    actions = []\n",
    "    for dist in dists:\n",
    "        actions.append(dist.sample().cpu().numpy()[0][0])\n",
    "    return actions"
   ]
  },
  {
   "cell_type": "markdown",
   "id": "ea6900a2",
   "metadata": {},
   "source": [
    "## Get Observation"
   ]
  },
  {
   "cell_type": "code",
   "execution_count": 1,
   "id": "ceb2c337",
   "metadata": {},
   "outputs": [],
   "source": [
    "import math,copy\n",
    "def getObservation():\n",
    "    # Get Lidar Readings\n",
    "    global real_x, real_y, clockIsVisible, observation, realAngles, readings, old_readings\n",
    "\n",
    "    # Lidar Readings\n",
    "    previous_readings = {k:round(readings[k]/1000,3) if readings[k]<=8000 else 8.000 for k in realAngles}\n",
    "\n",
    "    if old_readings == None:\n",
    "        old_readings = copy.deepcopy(previous_readings)\n",
    "    else:\n",
    "        for k in previous_readings.keys():\n",
    "            new_angles = [previous_readings[k]+y for y in range(-5,6)]\n",
    "            new_angle = min([x for x in new_angles if x != old_readings[k]  and x>0.01])\n",
    "            previous_readings[k]=new_angle\n",
    "        old_readings = copy.deepcopy(previous_readings)\n",
    "    \n",
    "            \n",
    "    # Angle & DX/DY\n",
    "    angle = calculateAngleToGoal()\n",
    "    dx = goal_x_coor - real_x\n",
    "    dy = goal_y_coor - real_y\n",
    "    \n",
    "    # Dist to Goal\n",
    "    distToGoal = math.sqrt(dx**2+dy**2)\n",
    "    \n",
    "    # Observation\n",
    "    observation = [round(distToGoal,3), round(dx,3), round(dy,3), angle, clockIsVisible]+list(previous_readings.values())"
   ]
  },
  {
   "cell_type": "code",
   "execution_count": null,
   "id": "040d8836",
   "metadata": {},
   "outputs": [],
   "source": [
    "def act(actions):\n",
    "    \n",
    "    # Actions\n",
    "    movement = actions[0]\n",
    "    rotation = actions[1]\n",
    "    \n",
    "    # Act\n",
    "    if movement == 1:  #FW\n",
    "        Move(distance=0.10, speed=0.15)\n",
    "        update_coordinates()\n",
    "        \n",
    "    elif movement == 2:\n",
    "        Move(distance=0.10, speed=-0.15)\n",
    "        update_coordinates()\n",
    "    \n",
    "    # Rotation\n",
    "    if rotation == 1:  # Right\n",
    "        Rotate(degrees=10, direction='right')\n",
    "    \n",
    "    elif rotation == 2:  # Left\n",
    "        Rotate(degrees=10, direction='left')"
   ]
  },
  {
   "cell_type": "code",
   "execution_count": null,
   "id": "20838f59",
   "metadata": {},
   "outputs": [],
   "source": [
    "def calculateAngleToGoal():\n",
    "    \n",
    "    global real_angle\n",
    "    \n",
    "    relAngToGoal = relativeAngleToGoal()\n",
    "    \n",
    "    # If goal is to the right, either up or down\n",
    "    if relAngToGoal > 0 and relAngToGoal < 180:\n",
    "        \n",
    "        # case 1\n",
    "        if (relAngToGoal - real_angle) > -180:\n",
    "            return round((relAngToGoal - real_angle), 3) \n",
    "\n",
    "        # case 2:\n",
    "        elif (relAngToGoal - real_angle) < -180:\n",
    "            return round((relAngToGoal - (real_angle-360)),3)\n",
    "    \n",
    "    \n",
    "    # \n",
    "    elif relAngToGoal < 0:\n",
    "        relAngToGoal+=360\n",
    "        \n",
    "        # case 3\n",
    "        if (relAngToGoal - real_angle) > 180:\n",
    "            return round((relAngToGoal - 360 - real_angle), 3)\n",
    "        \n",
    "        elif (relAngToGoal - real_angle) < 180:\n",
    "            return round((relAngToGoal - real_angle),3)"
   ]
  },
  {
   "cell_type": "code",
   "execution_count": null,
   "id": "6a58791c",
   "metadata": {},
   "outputs": [],
   "source": [
    "# Relative to Vertical\n",
    "def relativeAngleToGoal():\n",
    "    \n",
    "    global real_x, real_y\n",
    "    global goal_x_coor, goal_y_coor\n",
    "    \n",
    "    dis_to_goal_x = goal_x_coor - real_x\n",
    "    dis_to_goal_y = goal_y_coor - real_y\n",
    "    \n",
    "    # Left Side\n",
    "    if dis_to_goal_x < 0:\n",
    "        \n",
    "        # If Up\n",
    "        if dis_to_goal_y>0:\n",
    "            return round(math.degrees(math.atan(dis_to_goal_x/dis_to_goal_y)),3)\n",
    "        \n",
    "        # If Down\n",
    "        else:\n",
    "            return round(math.degrees(math.atan(dis_to_goal_x/dis_to_goal_y)),3)-180\n",
    "                \n",
    "    # Right Side\n",
    "    else:\n",
    "        # If Up\n",
    "        if dis_to_goal_y>0:\n",
    "            return round(math.degrees(math.atan(dis_to_goal_x/dis_to_goal_y)),3)\n",
    "        \n",
    "        # If Down\n",
    "        else:\n",
    "            return 180+round(math.degrees(math.atan(dis_to_goal_x/dis_to_goal_y)),3)"
   ]
  }
 ],
 "metadata": {
  "kernelspec": {
   "display_name": "Python 3",
   "language": "python",
   "name": "python3"
  },
  "language_info": {
   "codemirror_mode": {
    "name": "ipython",
    "version": 3
   },
   "file_extension": ".py",
   "mimetype": "text/x-python",
   "name": "python",
   "nbconvert_exporter": "python",
   "pygments_lexer": "ipython3",
   "version": "3.6.9"
  }
 },
 "nbformat": 4,
 "nbformat_minor": 5
}
