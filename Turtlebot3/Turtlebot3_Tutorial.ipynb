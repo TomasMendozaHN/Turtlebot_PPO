{
 "cells": [
  {
   "cell_type": "markdown",
   "id": "94494bd6",
   "metadata": {},
   "source": [
    "# <span style=\"color:red\">Important</span>\n",
    "\n",
    "## We MUST ALWAYS import  <span style=\"color:red\">*ROSPY*</span> before <span style=\"color:blue\">PyTORCH</span>. Otherwise you WILL get an error"
   ]
  },
  {
   "cell_type": "code",
   "execution_count": null,
   "id": "495ad0aa",
   "metadata": {},
   "outputs": [],
   "source": [
    "import rospy   # Imports ROS fpr Python\n",
    "from geometry_msgs.msg import Twist, Point, Quaternion   # Import  libraries necessary to control the engines\n",
    "from nav_msgs.msg import Odometry   # To obtain information of how long you have moved"
   ]
  },
  {
   "cell_type": "markdown",
   "id": "aa8309b4",
   "metadata": {},
   "source": [
    "## Now, it is safe to import PyTORCH"
   ]
  },
  {
   "cell_type": "code",
   "execution_count": null,
   "id": "145597ad",
   "metadata": {},
   "outputs": [],
   "source": [
    "import torch"
   ]
  },
  {
   "cell_type": "markdown",
   "id": "12b67661",
   "metadata": {},
   "source": [
    "## Import Camera "
   ]
  },
  {
   "cell_type": "code",
   "execution_count": null,
   "id": "e0116639",
   "metadata": {},
   "outputs": [],
   "source": [
    "import getpass   # To interact with the terminal automatically\n",
    "import os\n",
    "\n",
    "# These three lines are used to Reset the Camera. \n",
    "# This allows you to re-run the script (after restarting the kernel) without having to restart the Jetson.\n",
    "# If you don't run these three lines below, you will get an error saying your camera is not ready\n",
    "password = 'jetbot'   # If your jetson has a different password, replace it with your password.\n",
    "command = \"sudo -S systemctl restart nvargus-daemon\"\n",
    "os.system('echo %s | %s' % (password, command))\n",
    "\n",
    "# Here we import the camera & required libraries\n",
    "from jetcam.csi_camera import CSICamera\n",
    "import ipywidgets\n",
    "from IPython.display import display\n",
    "from jetcam.utils import bgr8_to_jpeg\n",
    "\n",
    "camera = CSICamera(width=640, height=480, capture_fps=10)\n",
    "camera.running = True\n",
    "print(\"jetcam ready!\")"
   ]
  },
  {
   "cell_type": "markdown",
   "id": "4ab53b4d",
   "metadata": {},
   "source": [
    "## Import Lidar Libraries"
   ]
  },
  {
   "cell_type": "code",
   "execution_count": null,
   "id": "313691f3",
   "metadata": {},
   "outputs": [],
   "source": [
    "import rplidar  # To use the rpLidar A1\n",
    "import getpass   # For the same reason as above\n",
    "from threading import Thread\n",
    "from rplidar import RPLidar\n",
    "import rplidar\n",
    "import os\n",
    "\n",
    "# Reset Lidar. Same idea as the camera\n",
    "password = 'jetbot'\n",
    "command = \"sudo -S chmod 666 /dev/ttyUSB1\" #can be any command but don't forget -S as it enables input from stdin\n",
    "os.system('echo %s | %s' % (password, command))\n",
    "print(\"lidar ready!\")"
   ]
  },
  {
   "cell_type": "markdown",
   "id": "73ce7662",
   "metadata": {},
   "source": [
    "## Lidar thread"
   ]
  },
  {
   "cell_type": "code",
   "execution_count": null,
   "id": "badc6d51",
   "metadata": {},
   "outputs": [],
   "source": [
    "# Define what angles you want to measure. In this case, 0, 10, 20, ..., 360\n",
    "anglesToRead = [x*10 for x in range(36)]\n",
    "\n",
    "# This variable will contain ALL the readings from the lidar (all angles between 0 and 360)\n",
    "Real_Readings = {x:1 for x in [x for x in range(360)]} "
   ]
  },
  {
   "cell_type": "code",
   "execution_count": null,
   "id": "179319ef",
   "metadata": {},
   "outputs": [],
   "source": [
    "def readLidarThread():\n",
    "    \n",
    "    global lidar, Real_Readings\n",
    "    \n",
    "    while True:\n",
    "        \n",
    "        for scan in lidar.iter_scans(scan_type='express', min_len = 100, max_buf_meas=False):\n",
    "            RAW_Readings = {int(x[1]): int(x[2]) for x in list(scan)}\n",
    "            \n",
    "            # we clean the RAW readings as they might be repeated or incomplete.\n",
    "            # Remember: when we call iter_scans one time, we are not reading the angles in order. \n",
    "            # Also, this command skips some angles and re-scans other angles in a single spin\n",
    "            for key,value in RAW_Readings.items(): \n",
    "                Real_Readings[key]=value"
   ]
  },
  {
   "cell_type": "code",
   "execution_count": null,
   "id": "b8862ece",
   "metadata": {},
   "outputs": [],
   "source": [
    "# Initialize the lidar object\n",
    "lidar = RPLidar('/dev/ttyUSB1')\n",
    "lidar.motor_speed = rplidar.MAX_MOTOR_PWM\n",
    "\n",
    "# Start the Lidar Thread\n",
    "lidarThread = Thread(target = readLidarThread)\n",
    "lidarThread.start()"
   ]
  },
  {
   "cell_type": "code",
   "execution_count": null,
   "id": "9bf0cf2c",
   "metadata": {},
   "outputs": [],
   "source": [
    "# Print the lidar readings every second, then clear the output\n",
    "from IPython import display\n",
    "import time\n",
    "\n",
    "# Print every second for 20 seconds\n",
    "for _ in range (20):  \n",
    "    # Clear the print output\n",
    "    display.clear_output(wait=True)\n",
    "    \n",
    "    # Obtain the lidar readings we actually care about (defined by the angles in anglesToRead)\n",
    "    Readings_we_care_about = {k:v for k,v in Real_Readings.items() if k in anglesToRead}\n",
    "    \n",
    "    # To print all the readings vertically (easier for a person to read)\n",
    "    for key, value in Readings_we_care_about.items():\n",
    "        print(key, ' : ', value)\n",
    "    time.sleep(1)"
   ]
  },
  {
   "cell_type": "markdown",
   "id": "82ffb355",
   "metadata": {},
   "source": [
    "## Camera Thread"
   ]
  },
  {
   "cell_type": "code",
   "execution_count": null,
   "id": "1407b250",
   "metadata": {},
   "outputs": [],
   "source": [
    "def execute(change):\n",
    "    # Obtain a new frame\n",
    "    image = change['new']  \n",
    "    \n",
    "    # Convert it to an RGB image\n",
    "    image_w.value = bgr8_to_jpeg(image[::-1, ::-1, :])  # -1 is to flip image horiz. or vert. Remove if necessary."
   ]
  },
  {
   "cell_type": "code",
   "execution_count": null,
   "id": "19739e9c",
   "metadata": {},
   "outputs": [],
   "source": [
    "# Create the widget\n",
    "image_w = ipywidgets.Image(format='jpeg', width=640, height=480)\n",
    "\n",
    "# Show the widget\n",
    "display(image_w)\n",
    "\n",
    "# Start camera and update the widget in the thread (infinitely)\n",
    "execute({'new': camera.value})\n",
    "camera.observe(execute, names='value')"
   ]
  },
  {
   "cell_type": "markdown",
   "id": "7fb87d1a",
   "metadata": {},
   "source": [
    "## Movement / Rotation Thread"
   ]
  },
  {
   "cell_type": "markdown",
   "id": "a366fb6f",
   "metadata": {},
   "source": [
    "## Below are some necessary functions to obtain an accurate reading from the stepper engines."
   ]
  },
  {
   "cell_type": "code",
   "execution_count": null,
   "id": "9916bd80",
   "metadata": {},
   "outputs": [],
   "source": [
    "from math import radians, copysign, sqrt, pow, pi, atan2\n",
    "import numpy\n",
    "import math\n",
    "\n",
    "dx,dy = 0,0\n",
    "real_x,real_y = 0,0\n",
    "moved_distance=0\n",
    "\n",
    "_AXES2TUPLE = {\n",
    "    'sxyz': (0, 0, 0, 0), 'sxyx': (0, 0, 1, 0), 'sxzy': (0, 1, 0, 0),\n",
    "    'sxzx': (0, 1, 1, 0), 'syzx': (1, 0, 0, 0), 'syzy': (1, 0, 1, 0),\n",
    "    'syxz': (1, 1, 0, 0), 'syxy': (1, 1, 1, 0), 'szxy': (2, 0, 0, 0),\n",
    "    'szxz': (2, 0, 1, 0), 'szyx': (2, 1, 0, 0), 'szyz': (2, 1, 1, 0),\n",
    "    'rzyx': (0, 0, 0, 1), 'rxyx': (0, 0, 1, 1), 'ryzx': (0, 1, 0, 1),\n",
    "    'rxzx': (0, 1, 1, 1), 'rxzy': (1, 0, 0, 1), 'ryzy': (1, 0, 1, 1),\n",
    "    'rzxy': (1, 1, 0, 1), 'ryxy': (1, 1, 1, 1), 'ryxz': (2, 0, 0, 1),\n",
    "    'rzxz': (2, 0, 1, 1), 'rxyz': (2, 1, 0, 1), 'rzyz': (2, 1, 1, 1)}\n",
    "\n",
    "_TUPLE2AXES = dict((v, k) for k, v in _AXES2TUPLE.items())\n",
    "\n",
    "# epsilon for testing whether a number is close to zero\n",
    "_EPS = numpy.finfo(float).eps * 4.0\n",
    "\n",
    "# axis sequences for Euler angles\n",
    "_NEXT_AXIS = [1, 2, 0, 1]\n",
    "\n",
    "def euler_from_quaternion(quaternion, axes='sxyz'):\n",
    "    \"\"\"Return Euler angles from quaternion for specified axis sequence.\n",
    "    >>> angles = euler_from_quaternion([0.06146124, 0, 0, 0.99810947])\n",
    "    >>> numpy.allclose(angles, [0.123, 0, 0])\n",
    "    True\n",
    "    \"\"\"\n",
    "    return euler_from_matrix(quaternion_matrix(quaternion), axes)\n",
    "#     return euler_from_matrix(quaternion_matrix(quaternion), axes)[2]\n",
    "\n",
    "def euler_from_matrix(matrix, axes='sxyz'):\n",
    "    \"\"\"Return Euler angles from rotation matrix for specified axis sequence.\n",
    "    axes : One of 24 axis sequences as string or encoded tuple\n",
    "    Note that many Euler angle triplets can describe one matrix.\n",
    "    >>> R0 = euler_matrix(1, 2, 3, 'syxz')\n",
    "    >>> al, be, ga = euler_from_matrix(R0, 'syxz')\n",
    "    >>> R1 = euler_matrix(al, be, ga, 'syxz')\n",
    "    >>> numpy.allclose(R0, R1)\n",
    "    True\n",
    "    >>> angles = (4.0*math.pi) * (numpy.random.random(3) - 0.5)\n",
    "    >>> for axes in _AXES2TUPLE.keys():\n",
    "    ...    R0 = euler_matrix(axes=axes, *angles)\n",
    "    ...    R1 = euler_matrix(axes=axes, *euler_from_matrix(R0, axes))\n",
    "    ...    if not numpy.allclose(R0, R1): print axes, \"failed\"\n",
    "    \"\"\"\n",
    "    try:\n",
    "        firstaxis, parity, repetition, frame = _AXES2TUPLE[axes.lower()]\n",
    "    except (AttributeError, KeyError):\n",
    "        _ = _TUPLE2AXES[axes]\n",
    "        firstaxis, parity, repetition, frame = axes\n",
    "\n",
    "    i = firstaxis\n",
    "    j = _NEXT_AXIS[i+parity]\n",
    "    k = _NEXT_AXIS[i-parity+1]\n",
    "\n",
    "    M = numpy.array(matrix, dtype=numpy.float64, copy=False)[:3, :3]\n",
    "    if repetition:\n",
    "        sy = math.sqrt(M[i, j]*M[i, j] + M[i, k]*M[i, k])\n",
    "        if sy > _EPS:\n",
    "            ax = math.atan2( M[i, j],  M[i, k])\n",
    "            ay = math.atan2( sy,       M[i, i])\n",
    "            az = math.atan2( M[j, i], -M[k, i])\n",
    "        else:\n",
    "            ax = math.atan2(-M[j, k],  M[j, j])\n",
    "            ay = math.atan2( sy,       M[i, i])\n",
    "            az = 0.0\n",
    "    else:\n",
    "        cy = math.sqrt(M[i, i]*M[i, i] + M[j, i]*M[j, i])\n",
    "        if cy > _EPS:\n",
    "            ax = math.atan2( M[k, j],  M[k, k])\n",
    "            ay = math.atan2(-M[k, i],  cy)\n",
    "            az = math.atan2( M[j, i],  M[i, i])\n",
    "        else:\n",
    "            ax = math.atan2(-M[j, k],  M[j, j])\n",
    "            ay = math.atan2(-M[k, i],  cy)\n",
    "            az = 0.0\n",
    "\n",
    "    if parity:\n",
    "        ax, ay, az = -ax, -ay, -az\n",
    "    if frame:\n",
    "        ax, az = az, ax\n",
    "    return ax, ay, az\n",
    "\n",
    "def quaternion_matrix(quaternion):\n",
    "    \"\"\"Return homogeneous rotation matrix from quaternion.\n",
    "    >>> R = quaternion_matrix([0.06146124, 0, 0, 0.99810947])\n",
    "    >>> numpy.allclose(R, rotation_matrix(0.123, (1, 0, 0)))\n",
    "    True\n",
    "    \"\"\"\n",
    "    q = numpy.array(quaternion[:4], dtype=numpy.float64, copy=True)\n",
    "    nq = numpy.dot(q, q)\n",
    "    if nq < _EPS:\n",
    "        return numpy.identity(4)\n",
    "    q *= math.sqrt(2.0 / nq)\n",
    "    q = numpy.outer(q, q)\n",
    "    return numpy.array((\n",
    "        (1.0-q[1, 1]-q[2, 2],     q[0, 1]-q[2, 3],     q[0, 2]+q[1, 3], 0.0),\n",
    "        (    q[0, 1]+q[2, 3], 1.0-q[0, 0]-q[2, 2],     q[1, 2]-q[0, 3], 0.0),\n",
    "        (    q[0, 2]-q[1, 3],     q[1, 2]+q[0, 3], 1.0-q[0, 0]-q[1, 1], 0.0),\n",
    "        (                0.0,                 0.0,                 0.0, 1.0)\n",
    "        ), dtype=numpy.float64)\n",
    "\n",
    "def calculateDistance(x0,y0,x1,y1):\n",
    "    return math.sqrt((x0-x1)**2+(y0-y1)**2)"
   ]
  },
  {
   "cell_type": "markdown",
   "id": "b14174d2",
   "metadata": {},
   "source": [
    "### This function is used to calculate the angle with respect to the original orientation. Otherwise, the angle returned by default by ROS is inconsistent with our Unity env"
   ]
  },
  {
   "cell_type": "code",
   "execution_count": null,
   "id": "1e7fae7d",
   "metadata": {},
   "outputs": [],
   "source": [
    "def callback(data):\n",
    "    global dx,dy,angle\n",
    "    dx = data.pose.pose.position.x\n",
    "    dy = data.pose.pose.position.y\n",
    "    \n",
    "    quat = [data.pose.pose.orientation.x,\n",
    "            data.pose.pose.orientation.y,\n",
    "            data.pose.pose.orientation.z,\n",
    "            data.pose.pose.orientation.w]\n",
    "    \n",
    "    angle = math.degrees(euler_from_quaternion(quat))"
   ]
  },
  {
   "cell_type": "code",
   "execution_count": null,
   "id": "e8c18fea",
   "metadata": {},
   "outputs": [],
   "source": [
    "def measurementThread():\n",
    "    running_thread = True\n",
    "    \n",
    "    # Create a suscribe to Odometry node using callback function   \n",
    "    odomSuscriber = rospy.Subscriber('/odom', Odometry, callback, queue_size=1)\n",
    "    \n",
    "    # Update odom measurements forever\n",
    "    rospy.spin()"
   ]
  },
  {
   "cell_type": "code",
   "execution_count": null,
   "id": "63116c8d",
   "metadata": {},
   "outputs": [],
   "source": [
    "def Move(distance=0.12,speed=0.4):\n",
    "    direction = -1 if speed < 0 else 1\n",
    "    global dx,dy,angle\n",
    "    global real_angle, real_x, real_y\n",
    "    global moved_distance, movements\n",
    "    global r\n",
    "    \n",
    "    move = Twist()\n",
    "    move.linear.x=speed\n",
    "    \n",
    "    init_x = dx\n",
    "    init_y = dy\n",
    "    \n",
    "    while calculateDistance(init_x,init_y,dx,dy) < distance:\n",
    "        pub.publish(move)\n",
    "        r.sleep()\n",
    "    moved_distance = calculateDistance(init_x,init_y,dx,dy)*direction\n",
    "    print('/nmoved: ', moved_distance)"
   ]
  },
  {
   "cell_type": "code",
   "execution_count": null,
   "id": "38f4e66a",
   "metadata": {},
   "outputs": [],
   "source": [
    "def Rotate(degrees=10, direction='left'):\n",
    "    global dx,dy,angle\n",
    "    global real_angle\n",
    "    \n",
    "    # Angle symbol\n",
    "    direct = 1 if direction=='left' else -1\n",
    "    \n",
    "    # Create msg to communicate with ROS\n",
    "    rotate = Twist()\n",
    "    \n",
    "    # Define speed and direction of rotation\n",
    "    rotate.angular.z = direct*0.175\n",
    "\n",
    "    # Rotate and calculate how much it rotated\n",
    "    init_angle = angle\n",
    "    while abs(init_angle-angle) < degrees:#*0.9:\n",
    "        pub.publish(rotate)\n",
    "        r.sleep()\n",
    "    # Update real_angle\n",
    "    rotated=direct*abs(init_angle-angle)\n",
    "    real_angle-=rotated\n",
    "    print(\"rotated = \", rotated)\n",
    "    \n",
    "    # Make sure real_angle is between 0-360\n",
    "    if real_angle/360>1:\n",
    "        real_angle-=360\n",
    "    elif real_angle<0:\n",
    "        real_angle+=360"
   ]
  },
  {
   "cell_type": "code",
   "execution_count": null,
   "id": "c16d291f",
   "metadata": {},
   "outputs": [],
   "source": [
    "def update_coordinates():\n",
    "    \n",
    "    global moved_distance\n",
    "    global real_angle, real_x, real_y\n",
    "    \n",
    "    if real_angle == 0: # Moved Forward ==> Y++\n",
    "        real_y+=moved_distance\n",
    "        \n",
    "    elif real_angle == 90: # Moved Right ==> X++\n",
    "        real_x+=moved_distance\n",
    "        \n",
    "    elif real_angle == 180: # Moved Backward ==> Y--\n",
    "        real_y-=moved_distance\n",
    "        \n",
    "    elif real_angle == 270: # Moved Left ==> X--\n",
    "        real_x-=moved_distance\n",
    "        \n",
    "    else:  # ==> Calculate X,Y components \n",
    "        delta_x = moved_distance*math.sin(math.radians(real_angle))\n",
    "        delta_y = moved_distance*math.cos(math.radians(real_angle))\n",
    "               \n",
    "        real_x += delta_x\n",
    "        real_y += delta_y"
   ]
  },
  {
   "cell_type": "code",
   "execution_count": null,
   "id": "96ffc3df",
   "metadata": {},
   "outputs": [],
   "source": [
    "# Create Node to communicate with ROS\n",
    "rospy.init_node('sub_odom')\n",
    "dx,dy,angle = 0,0,0\n",
    "real_angle, real_x, real_y = 0,0,0\n",
    "moved_distance = 0\n",
    "rotations,movements = [],[]"
   ]
  },
  {
   "cell_type": "code",
   "execution_count": null,
   "id": "1ba152eb",
   "metadata": {},
   "outputs": [],
   "source": [
    "# Create a publisher to control movement\n",
    "pub = rospy.Publisher('cmd_vel', Twist, queue_size=1)\n",
    "\n",
    "# Run Thread\n",
    "running_thread = False\n",
    "if not running_thread:\n",
    "    thread = Thread(target = measurementThread)\n",
    "    thread.start()"
   ]
  },
  {
   "cell_type": "code",
   "execution_count": null,
   "id": "6d1b4d34",
   "metadata": {},
   "outputs": [],
   "source": [
    "Move(distance=0.10, speed=-0.15)  # meters, m/s\n",
    "update_coordinates()\n",
    "print(f'new coordinates: angle={real_angle}, y={real_y}, x={real_x}')"
   ]
  },
  {
   "cell_type": "code",
   "execution_count": null,
   "id": "8242020e",
   "metadata": {},
   "outputs": [],
   "source": [
    "Rotate(degrees=10, direction='left')\n",
    "print(f'new coordinates: angle={real_angle}, y={real_y}, x={real_x}')"
   ]
  },
  {
   "cell_type": "code",
   "execution_count": null,
   "id": "ee8205bc",
   "metadata": {},
   "outputs": [],
   "source": []
  }
 ],
 "metadata": {
  "kernelspec": {
   "display_name": "Python 3",
   "language": "python",
   "name": "python3"
  },
  "language_info": {
   "codemirror_mode": {
    "name": "ipython",
    "version": 3
   },
   "file_extension": ".py",
   "mimetype": "text/x-python",
   "name": "python",
   "nbconvert_exporter": "python",
   "pygments_lexer": "ipython3",
   "version": "3.6.9"
  }
 },
 "nbformat": 4,
 "nbformat_minor": 5
}
